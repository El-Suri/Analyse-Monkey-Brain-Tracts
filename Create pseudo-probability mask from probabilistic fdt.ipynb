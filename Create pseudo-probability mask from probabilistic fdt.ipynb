{
 "cells": [
  {
   "cell_type": "code",
   "execution_count": 1,
   "metadata": {},
   "outputs": [],
   "source": [
    "import os\n",
    "import glob"
   ]
  },
  {
   "cell_type": "code",
   "execution_count": 2,
   "metadata": {},
   "outputs": [
    {
     "name": "stdout",
     "output_type": "stream",
     "text": [
      "['/cubric/data/c1639425/Monkey_Brains/derivatives/sub-01/dwi/probabilistic.bedpostX/prob_tract_single_mask_subic/fdt_paths.nii.gz', '/cubric/data/c1639425/Monkey_Brains/derivatives/sub-02/dwi/probabilistic.bedpostX/prob_tract_single_mask_subic/fdt_paths.nii.gz', '/cubric/data/c1639425/Monkey_Brains/derivatives/sub-03/dwi/probabilistic.bedpostX/prob_tract_single_mask_subic/fdt_paths.nii.gz', '/cubric/data/c1639425/Monkey_Brains/derivatives/sub-04/dwi/probabilistic.bedpostX/prob_tract_single_mask_subic/fdt_paths.nii.gz', '/cubric/data/c1639425/Monkey_Brains/derivatives/sub-05/dwi/probabilistic.bedpostX/prob_tract_single_mask_subic/fdt_paths.nii.gz', '/cubric/data/c1639425/Monkey_Brains/derivatives/sub-06/dwi/probabilistic.bedpostX/prob_tract_single_mask_subic/fdt_paths.nii.gz', '/cubric/data/c1639425/Monkey_Brains/derivatives/sub-07/dwi/probabilistic.bedpostX/prob_tract_single_mask_subic/fdt_paths.nii.gz', '/cubric/data/c1639425/Monkey_Brains/derivatives/sub-08/dwi/probabilistic.bedpostX/prob_tract_single_mask_subic/fdt_paths.nii.gz', '/cubric/data/c1639425/Monkey_Brains/derivatives/sub-09/dwi/probabilistic.bedpostX/prob_tract_single_mask_subic/fdt_paths.nii.gz']\n",
      "9\n"
     ]
    }
   ],
   "source": [
    "# Collect all saved tracts using glob search\n",
    "# deterministic path = '/cubric/data/c1639425/Monkey_Brains/derivatives/sub-0*/dwi/ncc_results/*ncc_Tract_mask.nii'\n",
    "probabilistic_path = '/cubric/data/c1639425/Monkey_Brains/derivatives/sub-0*/dwi/probabilistic.bedpostX/prob_tract_single_mask_subic/fdt_paths.nii.gz'\n",
    "saved_tracts = sorted(glob.glob(probabilistic_path))\n",
    "print(saved_tracts)\n",
    "print(len(saved_tracts))\n",
    "bin_tracts = saved_tracts # just to keep naming convention with deterministic script."
   ]
  },
  {
   "cell_type": "code",
   "execution_count": 3,
   "metadata": {
    "scrolled": false
   },
   "outputs": [
    {
     "name": "stdout",
     "output_type": "stream",
     "text": [
      "convert_xfm -omat /cubric/data/c1639425/Monkey_Brains/derivatives/sub-01/dwi/sub-01_b0_atlas_inverse.mat -inverse /cubric/data/c1639425/Monkey_Brains/derivatives/sub-01/dwi/sub-01_b0_atlas.mat\n",
      "convert_xfm -omat /cubric/data/c1639425/Monkey_Brains/derivatives/sub-02/dwi/sub-02_b0_atlas_inverse.mat -inverse /cubric/data/c1639425/Monkey_Brains/derivatives/sub-02/dwi/sub-02_b0_atlas.mat\n",
      "convert_xfm -omat /cubric/data/c1639425/Monkey_Brains/derivatives/sub-03/dwi/sub-03_b0_atlas_inverse.mat -inverse /cubric/data/c1639425/Monkey_Brains/derivatives/sub-03/dwi/sub-03_b0_atlas.mat\n",
      "convert_xfm -omat /cubric/data/c1639425/Monkey_Brains/derivatives/sub-04/dwi/sub-04_b0_atlas_inverse.mat -inverse /cubric/data/c1639425/Monkey_Brains/derivatives/sub-04/dwi/sub-04_b0_atlas.mat\n",
      "convert_xfm -omat /cubric/data/c1639425/Monkey_Brains/derivatives/sub-05/dwi/sub-05_b0_atlas_inverse.mat -inverse /cubric/data/c1639425/Monkey_Brains/derivatives/sub-05/dwi/sub-05_b0_atlas.mat\n",
      "convert_xfm -omat /cubric/data/c1639425/Monkey_Brains/derivatives/sub-06/dwi/sub-06_b0_atlas_inverse.mat -inverse /cubric/data/c1639425/Monkey_Brains/derivatives/sub-06/dwi/sub-06_b0_atlas.mat\n",
      "convert_xfm -omat /cubric/data/c1639425/Monkey_Brains/derivatives/sub-07/dwi/sub-07_b0_atlas_inverse.mat -inverse /cubric/data/c1639425/Monkey_Brains/derivatives/sub-07/dwi/sub-07_b0_atlas.mat\n",
      "convert_xfm -omat /cubric/data/c1639425/Monkey_Brains/derivatives/sub-08/dwi/sub-08_b0_atlas_inverse.mat -inverse /cubric/data/c1639425/Monkey_Brains/derivatives/sub-08/dwi/sub-08_b0_atlas.mat\n",
      "convert_xfm -omat /cubric/data/c1639425/Monkey_Brains/derivatives/sub-09/dwi/sub-09_b0_atlas_inverse.mat -inverse /cubric/data/c1639425/Monkey_Brains/derivatives/sub-09/dwi/sub-09_b0_atlas.mat\n",
      "9\n",
      "flirt -in /cubric/data/c1639425/Monkey_Brains/derivatives/sub-01/dwi/probabilistic.bedpostX/prob_tract_single_mask_subic/fdt_paths.nii.gz -ref /cubric/data/c1639425/Monkey_Brains/atlas/civm_rhesus_v1_b0.nii.gz -out /cubric/data/c1639425/Monkey_Brains/derivatives/sub-01/dwi/probabilistic.bedpostX/prob_tract_single_mask_subic/fdt_paths_atlas_space -applyxfm -init /cubric/data/c1639425/Monkey_Brains/derivatives/sub-01/dwi/sub-01_b0_atlas_inverse.mat\n",
      "flirt -in /cubric/data/c1639425/Monkey_Brains/derivatives/sub-02/dwi/probabilistic.bedpostX/prob_tract_single_mask_subic/fdt_paths.nii.gz -ref /cubric/data/c1639425/Monkey_Brains/atlas/civm_rhesus_v1_b0.nii.gz -out /cubric/data/c1639425/Monkey_Brains/derivatives/sub-02/dwi/probabilistic.bedpostX/prob_tract_single_mask_subic/fdt_paths_atlas_space -applyxfm -init /cubric/data/c1639425/Monkey_Brains/derivatives/sub-02/dwi/sub-02_b0_atlas_inverse.mat\n",
      "flirt -in /cubric/data/c1639425/Monkey_Brains/derivatives/sub-03/dwi/probabilistic.bedpostX/prob_tract_single_mask_subic/fdt_paths.nii.gz -ref /cubric/data/c1639425/Monkey_Brains/atlas/civm_rhesus_v1_b0.nii.gz -out /cubric/data/c1639425/Monkey_Brains/derivatives/sub-03/dwi/probabilistic.bedpostX/prob_tract_single_mask_subic/fdt_paths_atlas_space -applyxfm -init /cubric/data/c1639425/Monkey_Brains/derivatives/sub-03/dwi/sub-03_b0_atlas_inverse.mat\n",
      "flirt -in /cubric/data/c1639425/Monkey_Brains/derivatives/sub-04/dwi/probabilistic.bedpostX/prob_tract_single_mask_subic/fdt_paths.nii.gz -ref /cubric/data/c1639425/Monkey_Brains/atlas/civm_rhesus_v1_b0.nii.gz -out /cubric/data/c1639425/Monkey_Brains/derivatives/sub-04/dwi/probabilistic.bedpostX/prob_tract_single_mask_subic/fdt_paths_atlas_space -applyxfm -init /cubric/data/c1639425/Monkey_Brains/derivatives/sub-04/dwi/sub-04_b0_atlas_inverse.mat\n",
      "flirt -in /cubric/data/c1639425/Monkey_Brains/derivatives/sub-05/dwi/probabilistic.bedpostX/prob_tract_single_mask_subic/fdt_paths.nii.gz -ref /cubric/data/c1639425/Monkey_Brains/atlas/civm_rhesus_v1_b0.nii.gz -out /cubric/data/c1639425/Monkey_Brains/derivatives/sub-05/dwi/probabilistic.bedpostX/prob_tract_single_mask_subic/fdt_paths_atlas_space -applyxfm -init /cubric/data/c1639425/Monkey_Brains/derivatives/sub-05/dwi/sub-05_b0_atlas_inverse.mat\n",
      "flirt -in /cubric/data/c1639425/Monkey_Brains/derivatives/sub-06/dwi/probabilistic.bedpostX/prob_tract_single_mask_subic/fdt_paths.nii.gz -ref /cubric/data/c1639425/Monkey_Brains/atlas/civm_rhesus_v1_b0.nii.gz -out /cubric/data/c1639425/Monkey_Brains/derivatives/sub-06/dwi/probabilistic.bedpostX/prob_tract_single_mask_subic/fdt_paths_atlas_space -applyxfm -init /cubric/data/c1639425/Monkey_Brains/derivatives/sub-06/dwi/sub-06_b0_atlas_inverse.mat\n",
      "flirt -in /cubric/data/c1639425/Monkey_Brains/derivatives/sub-07/dwi/probabilistic.bedpostX/prob_tract_single_mask_subic/fdt_paths.nii.gz -ref /cubric/data/c1639425/Monkey_Brains/atlas/civm_rhesus_v1_b0.nii.gz -out /cubric/data/c1639425/Monkey_Brains/derivatives/sub-07/dwi/probabilistic.bedpostX/prob_tract_single_mask_subic/fdt_paths_atlas_space -applyxfm -init /cubric/data/c1639425/Monkey_Brains/derivatives/sub-07/dwi/sub-07_b0_atlas_inverse.mat\n",
      "flirt -in /cubric/data/c1639425/Monkey_Brains/derivatives/sub-08/dwi/probabilistic.bedpostX/prob_tract_single_mask_subic/fdt_paths.nii.gz -ref /cubric/data/c1639425/Monkey_Brains/atlas/civm_rhesus_v1_b0.nii.gz -out /cubric/data/c1639425/Monkey_Brains/derivatives/sub-08/dwi/probabilistic.bedpostX/prob_tract_single_mask_subic/fdt_paths_atlas_space -applyxfm -init /cubric/data/c1639425/Monkey_Brains/derivatives/sub-08/dwi/sub-08_b0_atlas_inverse.mat\n",
      "flirt -in /cubric/data/c1639425/Monkey_Brains/derivatives/sub-09/dwi/probabilistic.bedpostX/prob_tract_single_mask_subic/fdt_paths.nii.gz -ref /cubric/data/c1639425/Monkey_Brains/atlas/civm_rhesus_v1_b0.nii.gz -out /cubric/data/c1639425/Monkey_Brains/derivatives/sub-09/dwi/probabilistic.bedpostX/prob_tract_single_mask_subic/fdt_paths_atlas_space -applyxfm -init /cubric/data/c1639425/Monkey_Brains/derivatives/sub-09/dwi/sub-09_b0_atlas_inverse.mat\n"
     ]
    }
   ],
   "source": [
    "# Warp tracts to atlas space using inverse of atlas b0 to native b0 transformation\n",
    "\n",
    "# Collect atlas b0 transformations\n",
    "transformation_matrices = sorted(glob.glob('/cubric/data/c1639425/Monkey_Brains/derivatives/*/dwi/*_b0_atlas.mat'))\n",
    "#print(transformation_matrices)\n",
    "\n",
    "ref_atlas_image = '/cubric/data/c1639425/Monkey_Brains/atlas/civm_rhesus_v1_b0.nii.gz'\n",
    "\n",
    "#Invert transformation matrices\n",
    "for transform in transformation_matrices:\n",
    "    cmd = 'convert_xfm -omat ' + transform[0:-4] + '_inverse.mat' + ' -inverse ' + transform\n",
    "    print(cmd)\n",
    "    os.system(cmd)\n",
    "\n",
    "\n",
    "# Collect inverted transforms \n",
    "inverse_transformation_matrices = sorted(glob.glob('/cubric/data/c1639425/Monkey_Brains/derivatives/*/dwi/*_b0_atlas_inverse.mat'))\n",
    "print(len(inverse_transformation_matrices))\n",
    "\n",
    "# Perform the native to atlas transformations\n",
    "for tract, transform in zip(bin_tracts,inverse_transformation_matrices):\n",
    "    cmd = 'flirt -in ' + tract + ' -ref ' + ref_atlas_image + ' -out ' + tract[0:-7] + '_atlas_space' + ' -applyxfm -init ' + transform\n",
    "    print(cmd)\n",
    "    os.system(cmd)"
   ]
  },
  {
   "cell_type": "code",
   "execution_count": 12,
   "metadata": {},
   "outputs": [
    {
     "name": "stdout",
     "output_type": "stream",
     "text": [
      "[]\n"
     ]
    },
    {
     "ename": "IndexError",
     "evalue": "list index out of range",
     "output_type": "error",
     "traceback": [
      "\u001b[0;31m---------------------------------------------------------------------------\u001b[0m",
      "\u001b[0;31mIndexError\u001b[0m                                Traceback (most recent call last)",
      "\u001b[0;32m<ipython-input-12-ab064eda58f2>\u001b[0m in \u001b[0;36m<module>\u001b[0;34m\u001b[0m\n\u001b[1;32m      5\u001b[0m \u001b[0mcmd\u001b[0m \u001b[0;34m=\u001b[0m \u001b[0;34m'fslmaths '\u001b[0m \u001b[0;34m+\u001b[0m \u001b[0matlas_space_tracts\u001b[0m\u001b[0;34m[\u001b[0m\u001b[0;36m0\u001b[0m\u001b[0;34m]\u001b[0m \u001b[0;34m+\u001b[0m \u001b[0;34m' -add '\u001b[0m \u001b[0;34m+\u001b[0m \u001b[0matlas_space_tracts\u001b[0m\u001b[0;34m[\u001b[0m\u001b[0;36m1\u001b[0m\u001b[0;34m]\u001b[0m \u001b[0;34m+\u001b[0m \u001b[0;34m' -add '\u001b[0m \u001b[0;34m+\u001b[0m \u001b[0matlas_space_tracts\u001b[0m\u001b[0;34m[\u001b[0m\u001b[0;36m2\u001b[0m\u001b[0;34m]\u001b[0m \u001b[0;34m+\u001b[0m\u001b[0;31m \u001b[0m\u001b[0;31m\\\u001b[0m\u001b[0;34m\u001b[0m\u001b[0;34m\u001b[0m\u001b[0m\n\u001b[1;32m      6\u001b[0m \u001b[0;34m' -add '\u001b[0m \u001b[0;34m+\u001b[0m \u001b[0matlas_space_tracts\u001b[0m\u001b[0;34m[\u001b[0m\u001b[0;36m3\u001b[0m\u001b[0;34m]\u001b[0m \u001b[0;34m+\u001b[0m \u001b[0;34m' -add '\u001b[0m \u001b[0;34m+\u001b[0m \u001b[0matlas_space_tracts\u001b[0m\u001b[0;34m[\u001b[0m\u001b[0;36m4\u001b[0m\u001b[0;34m]\u001b[0m \u001b[0;34m+\u001b[0m \u001b[0;34m' -add '\u001b[0m \u001b[0;34m+\u001b[0m \u001b[0matlas_space_tracts\u001b[0m\u001b[0;34m[\u001b[0m\u001b[0;36m5\u001b[0m\u001b[0;34m]\u001b[0m \u001b[0;34m+\u001b[0m \u001b[0;34m' -add '\u001b[0m \u001b[0;34m+\u001b[0m \u001b[0matlas_space_tracts\u001b[0m\u001b[0;34m[\u001b[0m\u001b[0;36m6\u001b[0m\u001b[0;34m]\u001b[0m \u001b[0;34m+\u001b[0m\u001b[0;31m \u001b[0m\u001b[0;31m\\\u001b[0m\u001b[0;34m\u001b[0m\u001b[0;34m\u001b[0m\u001b[0m\n\u001b[0;32m----> 7\u001b[0;31m \u001b[0;34m' -add '\u001b[0m \u001b[0;34m+\u001b[0m \u001b[0matlas_space_tracts\u001b[0m\u001b[0;34m[\u001b[0m\u001b[0;36m7\u001b[0m\u001b[0;34m]\u001b[0m \u001b[0;34m+\u001b[0m \u001b[0;34m' /cubric/data/c1639425/Monkey_Brains/probability_mask_subic_ncc'\u001b[0m\u001b[0;34m\u001b[0m\u001b[0;34m\u001b[0m\u001b[0m\n\u001b[0m\u001b[1;32m      8\u001b[0m \u001b[0;34m\u001b[0m\u001b[0m\n\u001b[1;32m      9\u001b[0m \u001b[0mprint\u001b[0m\u001b[0;34m(\u001b[0m\u001b[0mcmd\u001b[0m\u001b[0;34m)\u001b[0m\u001b[0;34m\u001b[0m\u001b[0;34m\u001b[0m\u001b[0m\n",
      "\u001b[0;31mIndexError\u001b[0m: list index out of range"
     ]
    }
   ],
   "source": [
    "# Add masks together (8 masks)\n",
    "\n",
    "atlas_space_tracts = sorted(glob.glob('/cubric/data/c1639425/Monkey_Brains/derivatives/su*/dwi/probabilistic.bedpostX/prob_tract_single_mask_subic/fdt_paths_atlas_space*'))\n",
    "print(atlas_space_tracts)\n",
    "cmd = 'fslmaths ' + atlas_space_tracts[0] + ' -add ' + atlas_space_tracts[1] + ' -add ' + atlas_space_tracts[2] + \\\n",
    "' -add ' + atlas_space_tracts[3] + ' -add ' + atlas_space_tracts[4] + ' -add ' + atlas_space_tracts[5] + ' -add ' + atlas_space_tracts[6] + \\\n",
    "' -add ' + atlas_space_tracts[7] + ' /cubric/data/c1639425/Monkey_Brains/probability_mask_subic_8_subs'\n",
    "\n",
    "print(cmd)\n",
    "#os.system(cmd)"
   ]
  },
  {
   "cell_type": "code",
   "execution_count": 5,
   "metadata": {},
   "outputs": [
    {
     "name": "stdout",
     "output_type": "stream",
     "text": [
      "fslmaths /cubric/data/c1639425/Monkey_Brains/derivatives/sub-01/dwi/probabilistic.bedpostX/prob_tract_single_mask_subic/fdt_paths_atlas_space.nii.gz -add /cubric/data/c1639425/Monkey_Brains/derivatives/sub-02/dwi/probabilistic.bedpostX/prob_tract_single_mask_subic/fdt_paths_atlas_space.nii.gz -add /cubric/data/c1639425/Monkey_Brains/derivatives/sub-03/dwi/probabilistic.bedpostX/prob_tract_single_mask_subic/fdt_paths_atlas_space.nii.gz -add /cubric/data/c1639425/Monkey_Brains/derivatives/sub-04/dwi/probabilistic.bedpostX/prob_tract_single_mask_subic/fdt_paths_atlas_space.nii.gz -add /cubric/data/c1639425/Monkey_Brains/derivatives/sub-05/dwi/probabilistic.bedpostX/prob_tract_single_mask_subic/fdt_paths_atlas_space.nii.gz -add /cubric/data/c1639425/Monkey_Brains/derivatives/sub-06/dwi/probabilistic.bedpostX/prob_tract_single_mask_subic/fdt_paths_atlas_space.nii.gz -add /cubric/data/c1639425/Monkey_Brains/derivatives/sub-07/dwi/probabilistic.bedpostX/prob_tract_single_mask_subic/fdt_paths_atlas_space.nii.gz -add /cubric/data/c1639425/Monkey_Brains/derivatives/sub-08/dwi/probabilistic.bedpostX/prob_tract_single_mask_subic/fdt_paths_atlas_space.nii.gz -add /cubric/data/c1639425/Monkey_Brains/derivatives/sub-09/dwi/probabilistic.bedpostX/prob_tract_single_mask_subic/fdt_paths_atlas_space.nii.gz /cubric/data/c1639425/Monkey_Brains/subic_probtract_probability_mask\n"
     ]
    },
    {
     "data": {
      "text/plain": [
       "0"
      ]
     },
     "execution_count": 5,
     "metadata": {},
     "output_type": "execute_result"
    }
   ],
   "source": [
    "# Add masks together (9 masks)\n",
    "\n",
    "atlas_space_tracts = sorted(glob.glob('/cubric/data/c1639425/Monkey_Brains/derivatives/su*/dwi/probabilistic.bedpostX/prob_tract_single_mask_subic/fdt_paths_atlas_space*'))\n",
    "\n",
    "cmd = 'fslmaths ' + atlas_space_tracts[0] + ' -add ' + atlas_space_tracts[1] + ' -add ' + atlas_space_tracts[2] + \\\n",
    "' -add ' + atlas_space_tracts[3] + ' -add ' + atlas_space_tracts[4] + ' -add ' + atlas_space_tracts[5] + ' -add ' + atlas_space_tracts[6] + \\\n",
    "' -add ' + atlas_space_tracts[7] + ' -add ' + atlas_space_tracts[8] + ' /cubric/data/c1639425/Monkey_Brains/subic_probtract_probability_mask'\n",
    "\n",
    "print(cmd)\n",
    "os.system(cmd)"
   ]
  },
  {
   "cell_type": "code",
   "execution_count": null,
   "metadata": {},
   "outputs": [],
   "source": []
  },
  {
   "cell_type": "code",
   "execution_count": 9,
   "metadata": {
    "scrolled": true
   },
   "outputs": [
    {
     "name": "stdout",
     "output_type": "stream",
     "text": [
      "fslmaths /cubric/data/c1639425/Monkey_Brains/derivatives/sub-01/dwi/ncc_results/sub_01_ncc_Tract_mask.nii -bin /cubric/data/c1639425/Monkey_Brains/derivatives/sub-01/dwi/ncc_results/sub_01_ncc_Tract_mask_bin\n",
      "fslmaths /cubric/data/c1639425/Monkey_Brains/derivatives/sub-02/dwi/ncc_results/sub_02_ncc_Tract_mask.nii -bin /cubric/data/c1639425/Monkey_Brains/derivatives/sub-02/dwi/ncc_results/sub_02_ncc_Tract_mask_bin\n",
      "fslmaths /cubric/data/c1639425/Monkey_Brains/derivatives/sub-03/dwi/ncc_results/sub_03_ncc_Tract_mask.nii -bin /cubric/data/c1639425/Monkey_Brains/derivatives/sub-03/dwi/ncc_results/sub_03_ncc_Tract_mask_bin\n",
      "fslmaths /cubric/data/c1639425/Monkey_Brains/derivatives/sub-05/dwi/ncc_results/sub_05_ncc_Tract_mask.nii -bin /cubric/data/c1639425/Monkey_Brains/derivatives/sub-05/dwi/ncc_results/sub_05_ncc_Tract_mask_bin\n",
      "fslmaths /cubric/data/c1639425/Monkey_Brains/derivatives/sub-06/dwi/ncc_results/sub_06_ncc_Tract_mask.nii -bin /cubric/data/c1639425/Monkey_Brains/derivatives/sub-06/dwi/ncc_results/sub_06_ncc_Tract_mask_bin\n",
      "fslmaths /cubric/data/c1639425/Monkey_Brains/derivatives/sub-07/dwi/ncc_results/sub_07_ncc_Tract_mask.nii -bin /cubric/data/c1639425/Monkey_Brains/derivatives/sub-07/dwi/ncc_results/sub_07_ncc_Tract_mask_bin\n",
      "fslmaths /cubric/data/c1639425/Monkey_Brains/derivatives/sub-08/dwi/ncc_results/sub_08_ncc_Tract_mask.nii -bin /cubric/data/c1639425/Monkey_Brains/derivatives/sub-08/dwi/ncc_results/sub_08_ncc_Tract_mask_bin\n",
      "fslmaths /cubric/data/c1639425/Monkey_Brains/derivatives/sub-09/dwi/ncc_results/sub_09_ncc_Tract_mask.nii -bin /cubric/data/c1639425/Monkey_Brains/derivatives/sub-09/dwi/ncc_results/sub_09_ncc_Tract_mask_bin\n",
      "8\n"
     ]
    }
   ],
   "source": [
    "### Not using currently\n",
    "# Binarise tracts\n",
    "for subject in saved_tracts:\n",
    "    cmd = 'fslmaths ' + subject + ' -bin ' + subject[0:-4] + '_bin'\n",
    "    print(cmd)\n",
    "    os.system(cmd)\n",
    "\n",
    "    \n",
    "    \n",
    "# Collect results (double check, esp if you have just changed inputs)\n",
    "bin_tracts = sorted(glob.glob('/cubric/data/c1639425/Monkey_Brains/derivatives/sub-0*/dwi/ncc_results/*_Tract_mask_bin.nii.gz'))\n",
    "#print(bin_tracts)\n",
    "print(len(bin_tracts))\n"
   ]
  }
 ],
 "metadata": {
  "kernelspec": {
   "display_name": "Python 3",
   "language": "python",
   "name": "python3"
  },
  "language_info": {
   "codemirror_mode": {
    "name": "ipython",
    "version": 3
   },
   "file_extension": ".py",
   "mimetype": "text/x-python",
   "name": "python",
   "nbconvert_exporter": "python",
   "pygments_lexer": "ipython3",
   "version": "3.7.7"
  }
 },
 "nbformat": 4,
 "nbformat_minor": 4
}
