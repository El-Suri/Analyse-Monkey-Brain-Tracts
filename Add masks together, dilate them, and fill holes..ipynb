{
 "cells": [
  {
   "cell_type": "markdown",
   "metadata": {},
   "source": [
    "## Add masks together, dilate them, and fill holes."
   ]
  },
  {
   "cell_type": "code",
   "execution_count": 2,
   "metadata": {},
   "outputs": [],
   "source": [
    "import os\n",
    "import glob"
   ]
  },
  {
   "cell_type": "markdown",
   "metadata": {},
   "source": [
    "Add all subiculum masks together "
   ]
  },
  {
   "cell_type": "code",
   "execution_count": 19,
   "metadata": {},
   "outputs": [],
   "source": [
    "subic_masks = sorted(glob.glob('/cubric/data/c1639425/Monkey_Brains/derivatives/sub*/dwi/*_registered_labels_subiculum.nii'))\n",
    "para_subic = sorted(glob.glob('/cubric/data/c1639425/Monkey_Brains/derivatives/sub*/dwi/*_registered_labelsparasubic.nii'))\n",
    "pre_subic = sorted(glob.glob('/cubric/data/c1639425/Monkey_Brains/derivatives/sub*/dwi/*_registered_labelspresubic.nii'))\n",
    "pro_subic = sorted(glob.glob('/cubric/data/c1639425/Monkey_Brains/derivatives/sub*/dwi/*_registered_labelsprosubic.nii'))"
   ]
  },
  {
   "cell_type": "code",
   "execution_count": 24,
   "metadata": {},
   "outputs": [
    {
     "name": "stdout",
     "output_type": "stream",
     "text": [
      "/cubric/data/c1639425/Monkey_Brains/derivatives/sub-01/dwi/sub-01_registered_labels_subiculum\n"
     ]
    }
   ],
   "source": [
    "print(subic_masks[0][0:-4])"
   ]
  },
  {
   "cell_type": "code",
   "execution_count": 31,
   "metadata": {
    "scrolled": false
   },
   "outputs": [
    {
     "name": "stdout",
     "output_type": "stream",
     "text": [
      "fslmaths /cubric/data/c1639425/Monkey_Brains/derivatives/sub-01/dwi/sub-01_registered_labels_subiculum.nii -add /cubric/data/c1639425/Monkey_Brains/derivatives/sub-01/dwi/sub-01_registered_labelsparasubic.nii -add /cubric/data/c1639425/Monkey_Brains/derivatives/sub-01/dwi/sub-01_registered_labelspresubic.nii -add /cubric/data/c1639425/Monkey_Brains/derivatives/sub-01/dwi/sub-01_registered_labelsprosubic.nii /cubric/data/c1639425/Monkey_Brains/derivatives/sub-01/dwi/sub-01_registered_labels_subiculum_all\n",
      "fslmaths /cubric/data/c1639425/Monkey_Brains/derivatives/sub-02/dwi/sub-02_registered_labels_subiculum.nii -add /cubric/data/c1639425/Monkey_Brains/derivatives/sub-02/dwi/sub-02_registered_labelsparasubic.nii -add /cubric/data/c1639425/Monkey_Brains/derivatives/sub-02/dwi/sub-02_registered_labelspresubic.nii -add /cubric/data/c1639425/Monkey_Brains/derivatives/sub-02/dwi/sub-02_registered_labelsprosubic.nii /cubric/data/c1639425/Monkey_Brains/derivatives/sub-02/dwi/sub-02_registered_labels_subiculum_all\n",
      "fslmaths /cubric/data/c1639425/Monkey_Brains/derivatives/sub-03/dwi/sub-03_registered_labels_subiculum.nii -add /cubric/data/c1639425/Monkey_Brains/derivatives/sub-03/dwi/sub-03_registered_labelsparasubic.nii -add /cubric/data/c1639425/Monkey_Brains/derivatives/sub-03/dwi/sub-03_registered_labelspresubic.nii -add /cubric/data/c1639425/Monkey_Brains/derivatives/sub-03/dwi/sub-03_registered_labelsprosubic.nii /cubric/data/c1639425/Monkey_Brains/derivatives/sub-03/dwi/sub-03_registered_labels_subiculum_all\n",
      "fslmaths /cubric/data/c1639425/Monkey_Brains/derivatives/sub-04/dwi/sub-04_registered_labels_subiculum.nii -add /cubric/data/c1639425/Monkey_Brains/derivatives/sub-04/dwi/sub-04_registered_labelsparasubic.nii -add /cubric/data/c1639425/Monkey_Brains/derivatives/sub-04/dwi/sub-04_registered_labelspresubic.nii -add /cubric/data/c1639425/Monkey_Brains/derivatives/sub-04/dwi/sub-04_registered_labelsprosubic.nii /cubric/data/c1639425/Monkey_Brains/derivatives/sub-04/dwi/sub-04_registered_labels_subiculum_all\n",
      "fslmaths /cubric/data/c1639425/Monkey_Brains/derivatives/sub-05/dwi/sub-05_registered_labels_subiculum.nii -add /cubric/data/c1639425/Monkey_Brains/derivatives/sub-05/dwi/sub-05_registered_labelsparasubic.nii -add /cubric/data/c1639425/Monkey_Brains/derivatives/sub-05/dwi/sub-05_registered_labelspresubic.nii -add /cubric/data/c1639425/Monkey_Brains/derivatives/sub-05/dwi/sub-05_registered_labelsprosubic.nii /cubric/data/c1639425/Monkey_Brains/derivatives/sub-05/dwi/sub-05_registered_labels_subiculum_all\n",
      "fslmaths /cubric/data/c1639425/Monkey_Brains/derivatives/sub-06/dwi/sub-06_registered_labels_subiculum.nii -add /cubric/data/c1639425/Monkey_Brains/derivatives/sub-06/dwi/sub-06_registered_labelsparasubic.nii -add /cubric/data/c1639425/Monkey_Brains/derivatives/sub-06/dwi/sub-06_registered_labelspresubic.nii -add /cubric/data/c1639425/Monkey_Brains/derivatives/sub-06/dwi/sub-06_registered_labelsprosubic.nii /cubric/data/c1639425/Monkey_Brains/derivatives/sub-06/dwi/sub-06_registered_labels_subiculum_all\n",
      "fslmaths /cubric/data/c1639425/Monkey_Brains/derivatives/sub-07/dwi/sub-07_registered_labels_subiculum.nii -add /cubric/data/c1639425/Monkey_Brains/derivatives/sub-07/dwi/sub-07_registered_labelsparasubic.nii -add /cubric/data/c1639425/Monkey_Brains/derivatives/sub-07/dwi/sub-07_registered_labelspresubic.nii -add /cubric/data/c1639425/Monkey_Brains/derivatives/sub-07/dwi/sub-07_registered_labelsprosubic.nii /cubric/data/c1639425/Monkey_Brains/derivatives/sub-07/dwi/sub-07_registered_labels_subiculum_all\n",
      "fslmaths /cubric/data/c1639425/Monkey_Brains/derivatives/sub-08/dwi/sub-08_registered_labels_subiculum.nii -add /cubric/data/c1639425/Monkey_Brains/derivatives/sub-08/dwi/sub-08_registered_labelsparasubic.nii -add /cubric/data/c1639425/Monkey_Brains/derivatives/sub-08/dwi/sub-08_registered_labelspresubic.nii -add /cubric/data/c1639425/Monkey_Brains/derivatives/sub-08/dwi/sub-08_registered_labelsprosubic.nii /cubric/data/c1639425/Monkey_Brains/derivatives/sub-08/dwi/sub-08_registered_labels_subiculum_all\n",
      "fslmaths /cubric/data/c1639425/Monkey_Brains/derivatives/sub-09/dwi/sub-09_registered_labels_subiculum.nii -add /cubric/data/c1639425/Monkey_Brains/derivatives/sub-09/dwi/sub-09_registered_labelsparasubic.nii -add /cubric/data/c1639425/Monkey_Brains/derivatives/sub-09/dwi/sub-09_registered_labelspresubic.nii -add /cubric/data/c1639425/Monkey_Brains/derivatives/sub-09/dwi/sub-09_registered_labelsprosubic.nii /cubric/data/c1639425/Monkey_Brains/derivatives/sub-09/dwi/sub-09_registered_labels_subiculum_all\n"
     ]
    }
   ],
   "source": [
    "for i in range(len(subic_masks)):\n",
    "    cmd = 'fslmaths ' + subic_masks[i] + ' -add ' + para_subic[i] + ' -add ' + pre_subic[i] + ' -add ' + pro_subic[i] + ' ' + subic_masks[i][0:-4] + '_all'\n",
    "    print(cmd)\n",
    "    os.system(cmd)\n",
    "    unzip = 'gunzip ' + subic_masks[i][0:-4] + '_all.nii.gz'\n",
    "    os.system(unzip)"
   ]
  },
  {
   "cell_type": "markdown",
   "metadata": {},
   "source": [
    "Fill any holes in masks (didn't work how I wanted it to)"
   ]
  },
  {
   "cell_type": "code",
   "execution_count": null,
   "metadata": {},
   "outputs": [],
   "source": [
    "for mask in subic_masks:\n",
    "    cmd = 'fslmaths ' + mask + ' -kernel 3D -dilM ' + mask[0:-4] + '_dilated'\n",
    "    print(cmd)\n",
    "    os.system(cmd)\n",
    "    rm = 'rm ' + mask[0:-4] + '_dilated.nii'\n",
    "    unzip = 'gunzip ' + mask[0:-4] + '_dilated.nii.gz'\n",
    "    #os.system(rm)\n",
    "    print(unzip)\n",
    "    os.system(unzip)"
   ]
  },
  {
   "cell_type": "markdown",
   "metadata": {},
   "source": [
    "Expand (dilate) masks (made masks too big and caused huge amount of implausible streamlines)"
   ]
  },
  {
   "cell_type": "code",
   "execution_count": 13,
   "metadata": {
    "scrolled": true
   },
   "outputs": [
    {
     "name": "stdout",
     "output_type": "stream",
     "text": [
      "fslmaths /cubric/data/c1639425/Monkey_Brains/derivatives/sub-01/dwi/sub-01_registered_labels_subiculum.nii -kernel 3D -dilM /cubric/data/c1639425/Monkey_Brains/derivatives/sub-01/dwi/sub-01_registered_labels_subiculum_dilated\n",
      "gunzip /cubric/data/c1639425/Monkey_Brains/derivatives/sub-01/dwi/sub-01_registered_labels_subiculum_dilated.nii.gz\n",
      "fslmaths /cubric/data/c1639425/Monkey_Brains/derivatives/sub-02/dwi/sub-02_registered_labels_subiculum.nii -kernel 3D -dilM /cubric/data/c1639425/Monkey_Brains/derivatives/sub-02/dwi/sub-02_registered_labels_subiculum_dilated\n",
      "gunzip /cubric/data/c1639425/Monkey_Brains/derivatives/sub-02/dwi/sub-02_registered_labels_subiculum_dilated.nii.gz\n",
      "fslmaths /cubric/data/c1639425/Monkey_Brains/derivatives/sub-03/dwi/sub-03_registered_labels_subiculum.nii -kernel 3D -dilM /cubric/data/c1639425/Monkey_Brains/derivatives/sub-03/dwi/sub-03_registered_labels_subiculum_dilated\n",
      "gunzip /cubric/data/c1639425/Monkey_Brains/derivatives/sub-03/dwi/sub-03_registered_labels_subiculum_dilated.nii.gz\n",
      "fslmaths /cubric/data/c1639425/Monkey_Brains/derivatives/sub-04/dwi/sub-04_registered_labels_subiculum.nii -kernel 3D -dilM /cubric/data/c1639425/Monkey_Brains/derivatives/sub-04/dwi/sub-04_registered_labels_subiculum_dilated\n",
      "gunzip /cubric/data/c1639425/Monkey_Brains/derivatives/sub-04/dwi/sub-04_registered_labels_subiculum_dilated.nii.gz\n",
      "fslmaths /cubric/data/c1639425/Monkey_Brains/derivatives/sub-05/dwi/sub-05_registered_labels_subiculum.nii -kernel 3D -dilM /cubric/data/c1639425/Monkey_Brains/derivatives/sub-05/dwi/sub-05_registered_labels_subiculum_dilated\n",
      "gunzip /cubric/data/c1639425/Monkey_Brains/derivatives/sub-05/dwi/sub-05_registered_labels_subiculum_dilated.nii.gz\n",
      "fslmaths /cubric/data/c1639425/Monkey_Brains/derivatives/sub-06/dwi/sub-06_registered_labels_subiculum.nii -kernel 3D -dilM /cubric/data/c1639425/Monkey_Brains/derivatives/sub-06/dwi/sub-06_registered_labels_subiculum_dilated\n",
      "gunzip /cubric/data/c1639425/Monkey_Brains/derivatives/sub-06/dwi/sub-06_registered_labels_subiculum_dilated.nii.gz\n",
      "fslmaths /cubric/data/c1639425/Monkey_Brains/derivatives/sub-07/dwi/sub-07_registered_labels_subiculum.nii -kernel 3D -dilM /cubric/data/c1639425/Monkey_Brains/derivatives/sub-07/dwi/sub-07_registered_labels_subiculum_dilated\n",
      "gunzip /cubric/data/c1639425/Monkey_Brains/derivatives/sub-07/dwi/sub-07_registered_labels_subiculum_dilated.nii.gz\n",
      "fslmaths /cubric/data/c1639425/Monkey_Brains/derivatives/sub-08/dwi/sub-08_registered_labels_subiculum.nii -kernel 3D -dilM /cubric/data/c1639425/Monkey_Brains/derivatives/sub-08/dwi/sub-08_registered_labels_subiculum_dilated\n",
      "gunzip /cubric/data/c1639425/Monkey_Brains/derivatives/sub-08/dwi/sub-08_registered_labels_subiculum_dilated.nii.gz\n",
      "fslmaths /cubric/data/c1639425/Monkey_Brains/derivatives/sub-09/dwi/sub-09_registered_labels_subiculum.nii -kernel 3D -dilM /cubric/data/c1639425/Monkey_Brains/derivatives/sub-09/dwi/sub-09_registered_labels_subiculum_dilated\n",
      "gunzip /cubric/data/c1639425/Monkey_Brains/derivatives/sub-09/dwi/sub-09_registered_labels_subiculum_dilated.nii.gz\n"
     ]
    }
   ],
   "source": [
    "for mask in subic_masks:\n",
    "    cmd = 'fslmaths ' + mask + ' -kernel 3D -dilM ' + mask[0:-4] + '_dilated'\n",
    "    print(cmd)\n",
    "    os.system(cmd)\n",
    "    rm = 'rm ' + mask[0:-4] + '_dilated.nii'\n",
    "    unzip = 'gunzip ' + mask[0:-4] + '_dilated.nii.gz'\n",
    "    #os.system(rm)\n",
    "    print(unzip)\n",
    "    os.system(unzip)"
   ]
  },
  {
   "cell_type": "code",
   "execution_count": null,
   "metadata": {},
   "outputs": [],
   "source": []
  }
 ],
 "metadata": {
  "kernelspec": {
   "display_name": "Python 3",
   "language": "python",
   "name": "python3"
  },
  "language_info": {
   "codemirror_mode": {
    "name": "ipython",
    "version": 3
   },
   "file_extension": ".py",
   "mimetype": "text/x-python",
   "name": "python",
   "nbconvert_exporter": "python",
   "pygments_lexer": "ipython3",
   "version": "3.7.7"
  }
 },
 "nbformat": 4,
 "nbformat_minor": 4
}
