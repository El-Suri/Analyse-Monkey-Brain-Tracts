{
 "cells": [
  {
   "cell_type": "markdown",
   "metadata": {},
   "source": [
    "# This script will register the atlas to monkey brain native space. "
   ]
  },
  {
   "cell_type": "code",
   "execution_count": 1,
   "metadata": {},
   "outputs": [],
   "source": [
    "import os\n",
    "import numpy as np\n",
    "import pandas as pd\n",
    "import glob"
   ]
  },
  {
   "cell_type": "markdown",
   "metadata": {},
   "source": [
    "subj_folders and subj_ids needs to be a list of the folders of each subjects where your b0 images are, and a list of the subject names. The folders and subject names lists should match exactly in terms of their order. E.g. subj_folders[0] = /my/folder/subj-01 and subj_names[0] = subj-01. Glob.glob is a great tool that searches for specified file names and puts them into a list."
   ]
  },
  {
   "cell_type": "code",
   "execution_count": 31,
   "metadata": {},
   "outputs": [
    {
     "name": "stdout",
     "output_type": "stream",
     "text": [
      "['sub-01', 'sub-02', 'sub-03', 'sub-04', 'sub-05', 'sub-06', 'sub-07', 'sub-08', 'sub-09']\n"
     ]
    }
   ],
   "source": [
    "atlas_labels = '/cubric/data/c1639425/Monkey_Brains/atlas/civm_rhesus_v1_labels.nii.gz'\n",
    "subj_folders = sorted(glob.glob('/cubric/data/c1639425/Monkey_Brains/derivatives/*/dwi/'))\n",
    "subj_ids = [x[48:54] for x in subj_folders] # Change this to 'catch' the subject IDs. Check by printing below.\n",
    "print(subj_ids)\n",
    "# print(subj_folders)"
   ]
  },
  {
   "cell_type": "code",
   "execution_count": 4,
   "metadata": {},
   "outputs": [
    {
     "name": "stdout",
     "output_type": "stream",
     "text": [
      "/cubric/data/c1639425/Monkey_Brains/derivatives/sub-01/dwi/ sub-01\n",
      "fslroi /cubric/data/c1639425/Monkey_Brains/derivatives/sub-01/dwi/sub-01_dwi_bet_shuffled_FP.nii /cubric/data/c1639425/Monkey_Brains/derivatives/sub-01/dwi/sub-01_dwi_bet_shuffled_FP_b0.nii.gz 0 1\n",
      "/cubric/data/c1639425/Monkey_Brains/derivatives/sub-02/dwi/ sub-02\n",
      "fslroi /cubric/data/c1639425/Monkey_Brains/derivatives/sub-02/dwi/sub-02_dwi_bet_shuffled_FP.nii /cubric/data/c1639425/Monkey_Brains/derivatives/sub-02/dwi/sub-02_dwi_bet_shuffled_FP_b0.nii.gz 0 1\n",
      "/cubric/data/c1639425/Monkey_Brains/derivatives/sub-03/dwi/ sub-03\n",
      "fslroi /cubric/data/c1639425/Monkey_Brains/derivatives/sub-03/dwi/sub-03_dwi_bet_shuffled_FP.nii /cubric/data/c1639425/Monkey_Brains/derivatives/sub-03/dwi/sub-03_dwi_bet_shuffled_FP_b0.nii.gz 0 1\n",
      "/cubric/data/c1639425/Monkey_Brains/derivatives/sub-04/dwi/ sub-04\n",
      "fslroi /cubric/data/c1639425/Monkey_Brains/derivatives/sub-04/dwi/sub-04_dwi_bet_shuffled_FP.nii /cubric/data/c1639425/Monkey_Brains/derivatives/sub-04/dwi/sub-04_dwi_bet_shuffled_FP_b0.nii.gz 0 1\n",
      "/cubric/data/c1639425/Monkey_Brains/derivatives/sub-05/dwi/ sub-05\n",
      "fslroi /cubric/data/c1639425/Monkey_Brains/derivatives/sub-05/dwi/sub-05_dwi_bet_shuffled_FP.nii /cubric/data/c1639425/Monkey_Brains/derivatives/sub-05/dwi/sub-05_dwi_bet_shuffled_FP_b0.nii.gz 0 1\n",
      "/cubric/data/c1639425/Monkey_Brains/derivatives/sub-06/dwi/ sub-06\n",
      "fslroi /cubric/data/c1639425/Monkey_Brains/derivatives/sub-06/dwi/sub-06_dwi_bet_shuffled_FP.nii /cubric/data/c1639425/Monkey_Brains/derivatives/sub-06/dwi/sub-06_dwi_bet_shuffled_FP_b0.nii.gz 0 1\n",
      "/cubric/data/c1639425/Monkey_Brains/derivatives/sub-07/dwi/ sub-07\n",
      "fslroi /cubric/data/c1639425/Monkey_Brains/derivatives/sub-07/dwi/sub-07_dwi_bet_shuffled_FP.nii /cubric/data/c1639425/Monkey_Brains/derivatives/sub-07/dwi/sub-07_dwi_bet_shuffled_FP_b0.nii.gz 0 1\n",
      "/cubric/data/c1639425/Monkey_Brains/derivatives/sub-08/dwi/ sub-08\n",
      "fslroi /cubric/data/c1639425/Monkey_Brains/derivatives/sub-08/dwi/sub-08_dwi_bet_shuffled_FP.nii /cubric/data/c1639425/Monkey_Brains/derivatives/sub-08/dwi/sub-08_dwi_bet_shuffled_FP_b0.nii.gz 0 1\n",
      "/cubric/data/c1639425/Monkey_Brains/derivatives/sub-09/dwi/ sub-09\n",
      "fslroi /cubric/data/c1639425/Monkey_Brains/derivatives/sub-09/dwi/sub-09_dwi_bet_shuffled_FP.nii /cubric/data/c1639425/Monkey_Brains/derivatives/sub-09/dwi/sub-09_dwi_bet_shuffled_FP_b0.nii.gz 0 1\n"
     ]
    }
   ],
   "source": [
    "# Extract B0's from the pre-processed ExploreDTI-ready dwi data\n",
    "def extract_b0(subj_folders,subj_ids,file_extension):\n",
    "    for path,subj in zip(subj_folders,subj_ids):\n",
    "        print(path,subj)\n",
    "        cmd = 'fslroi ' + path + subj + file_extension + ' ' + path + subj + '_dwi_bet_shuffled_FP_b0.nii.gz 0 1'\n",
    "        print(cmd)\n",
    "        os.system(cmd)\n",
    "    \n",
    "\n",
    "file_extension = '_dwi_bet_shuffled_FP.nii' # this is the default file extension after you have got the data ready for tractography via Explore DTI\n",
    "extract_b0(subj_folders,subj_ids,file_extension)"
   ]
  },
  {
   "cell_type": "markdown",
   "metadata": {},
   "source": [
    "## Register the B0 of the atlas to the ExploreDTI-ready monkey b0 you just extracted. b0_monkey_images is an ordered list of all the b0 monkey brains you just extracted."
   ]
  },
  {
   "cell_type": "code",
   "execution_count": 25,
   "metadata": {},
   "outputs": [
    {
     "name": "stdout",
     "output_type": "stream",
     "text": [
      "/cubric/data/c1639425/Monkey_Brains/atlas/civm_rhesus_v1_b0.nii.gz\n",
      "['/cubric/data/c1639425/Monkey_Brains/derivatives/sub-01/dwi/sub-01_dwi_bet_shuffled_FP_b0.nii.gz', '/cubric/data/c1639425/Monkey_Brains/derivatives/sub-02/dwi/sub-02_dwi_bet_shuffled_FP_b0.nii.gz', '/cubric/data/c1639425/Monkey_Brains/derivatives/sub-03/dwi/sub-03_dwi_bet_shuffled_FP_b0.nii.gz', '/cubric/data/c1639425/Monkey_Brains/derivatives/sub-04/dwi/sub-04_dwi_bet_shuffled_FP_b0.nii.gz', '/cubric/data/c1639425/Monkey_Brains/derivatives/sub-05/dwi/sub-05_dwi_bet_shuffled_FP_b0.nii.gz', '/cubric/data/c1639425/Monkey_Brains/derivatives/sub-06/dwi/sub-06_dwi_bet_shuffled_FP_b0.nii.gz', '/cubric/data/c1639425/Monkey_Brains/derivatives/sub-07/dwi/sub-07_dwi_bet_shuffled_FP_b0.nii.gz', '/cubric/data/c1639425/Monkey_Brains/derivatives/sub-08/dwi/sub-08_dwi_bet_shuffled_FP_b0.nii.gz', '/cubric/data/c1639425/Monkey_Brains/derivatives/sub-09/dwi/sub-09_dwi_bet_shuffled_FP_b0.nii.gz']\n"
     ]
    }
   ],
   "source": [
    "b0_atlas_image = '/cubric/data/c1639425/Monkey_Brains/atlas/civm_rhesus_v1_b0.nii.gz'\n",
    "print(b0_atlas_image)\n",
    "b0_monkey_images = sorted(glob.glob('/cubric/data/c1639425/Monkey_Brains/derivatives/*/dwi/*_dwi_bet_shuffled_FP_b0.nii.gz'))\n",
    "print(b0_monkey_images)"
   ]
  },
  {
   "cell_type": "code",
   "execution_count": 38,
   "metadata": {},
   "outputs": [
    {
     "name": "stdout",
     "output_type": "stream",
     "text": [
      "sub-01\n",
      "flirt -in /cubric/data/c1639425/Monkey_Brains/atlas/civm_rhesus_v1_b0.nii.gz -ref /cubric/data/c1639425/Monkey_Brains/derivatives/sub-01/dwi/sub-01_dwi_bet_shuffled_FP_b0.nii.gz -out /cubric/data/c1639425/Monkey_Brains/derivatives/sub-01/dwi/sub-01_b0_atlas_flirt -omat /cubric/data/c1639425/Monkey_Brains/derivatives/sub-01/dwi/sub-01_b0_atlas.mat -bins 256 -cost corratio -searchrx -90 90 -searchry -90 90 -searchrz -90 90 -dof 12  -interp nearestneighbour\n",
      "sub-02\n",
      "flirt -in /cubric/data/c1639425/Monkey_Brains/atlas/civm_rhesus_v1_b0.nii.gz -ref /cubric/data/c1639425/Monkey_Brains/derivatives/sub-02/dwi/sub-02_dwi_bet_shuffled_FP_b0.nii.gz -out /cubric/data/c1639425/Monkey_Brains/derivatives/sub-02/dwi/sub-02_b0_atlas_flirt -omat /cubric/data/c1639425/Monkey_Brains/derivatives/sub-02/dwi/sub-02_b0_atlas.mat -bins 256 -cost corratio -searchrx -90 90 -searchry -90 90 -searchrz -90 90 -dof 12  -interp nearestneighbour\n",
      "sub-03\n",
      "flirt -in /cubric/data/c1639425/Monkey_Brains/atlas/civm_rhesus_v1_b0.nii.gz -ref /cubric/data/c1639425/Monkey_Brains/derivatives/sub-03/dwi/sub-03_dwi_bet_shuffled_FP_b0.nii.gz -out /cubric/data/c1639425/Monkey_Brains/derivatives/sub-03/dwi/sub-03_b0_atlas_flirt -omat /cubric/data/c1639425/Monkey_Brains/derivatives/sub-03/dwi/sub-03_b0_atlas.mat -bins 256 -cost corratio -searchrx -90 90 -searchry -90 90 -searchrz -90 90 -dof 12  -interp nearestneighbour\n",
      "sub-04\n",
      "flirt -in /cubric/data/c1639425/Monkey_Brains/atlas/civm_rhesus_v1_b0.nii.gz -ref /cubric/data/c1639425/Monkey_Brains/derivatives/sub-04/dwi/sub-04_dwi_bet_shuffled_FP_b0.nii.gz -out /cubric/data/c1639425/Monkey_Brains/derivatives/sub-04/dwi/sub-04_b0_atlas_flirt -omat /cubric/data/c1639425/Monkey_Brains/derivatives/sub-04/dwi/sub-04_b0_atlas.mat -bins 256 -cost corratio -searchrx -90 90 -searchry -90 90 -searchrz -90 90 -dof 12  -interp nearestneighbour\n",
      "sub-05\n",
      "flirt -in /cubric/data/c1639425/Monkey_Brains/atlas/civm_rhesus_v1_b0.nii.gz -ref /cubric/data/c1639425/Monkey_Brains/derivatives/sub-05/dwi/sub-05_dwi_bet_shuffled_FP_b0.nii.gz -out /cubric/data/c1639425/Monkey_Brains/derivatives/sub-05/dwi/sub-05_b0_atlas_flirt -omat /cubric/data/c1639425/Monkey_Brains/derivatives/sub-05/dwi/sub-05_b0_atlas.mat -bins 256 -cost corratio -searchrx -90 90 -searchry -90 90 -searchrz -90 90 -dof 12  -interp nearestneighbour\n",
      "sub-06\n",
      "flirt -in /cubric/data/c1639425/Monkey_Brains/atlas/civm_rhesus_v1_b0.nii.gz -ref /cubric/data/c1639425/Monkey_Brains/derivatives/sub-06/dwi/sub-06_dwi_bet_shuffled_FP_b0.nii.gz -out /cubric/data/c1639425/Monkey_Brains/derivatives/sub-06/dwi/sub-06_b0_atlas_flirt -omat /cubric/data/c1639425/Monkey_Brains/derivatives/sub-06/dwi/sub-06_b0_atlas.mat -bins 256 -cost corratio -searchrx -90 90 -searchry -90 90 -searchrz -90 90 -dof 12  -interp nearestneighbour\n",
      "sub-07\n",
      "flirt -in /cubric/data/c1639425/Monkey_Brains/atlas/civm_rhesus_v1_b0.nii.gz -ref /cubric/data/c1639425/Monkey_Brains/derivatives/sub-07/dwi/sub-07_dwi_bet_shuffled_FP_b0.nii.gz -out /cubric/data/c1639425/Monkey_Brains/derivatives/sub-07/dwi/sub-07_b0_atlas_flirt -omat /cubric/data/c1639425/Monkey_Brains/derivatives/sub-07/dwi/sub-07_b0_atlas.mat -bins 256 -cost corratio -searchrx -90 90 -searchry -90 90 -searchrz -90 90 -dof 12  -interp nearestneighbour\n",
      "sub-08\n",
      "flirt -in /cubric/data/c1639425/Monkey_Brains/atlas/civm_rhesus_v1_b0.nii.gz -ref /cubric/data/c1639425/Monkey_Brains/derivatives/sub-08/dwi/sub-08_dwi_bet_shuffled_FP_b0.nii.gz -out /cubric/data/c1639425/Monkey_Brains/derivatives/sub-08/dwi/sub-08_b0_atlas_flirt -omat /cubric/data/c1639425/Monkey_Brains/derivatives/sub-08/dwi/sub-08_b0_atlas.mat -bins 256 -cost corratio -searchrx -90 90 -searchry -90 90 -searchrz -90 90 -dof 12  -interp nearestneighbour\n",
      "sub-09\n",
      "flirt -in /cubric/data/c1639425/Monkey_Brains/atlas/civm_rhesus_v1_b0.nii.gz -ref /cubric/data/c1639425/Monkey_Brains/derivatives/sub-09/dwi/sub-09_dwi_bet_shuffled_FP_b0.nii.gz -out /cubric/data/c1639425/Monkey_Brains/derivatives/sub-09/dwi/sub-09_b0_atlas_flirt -omat /cubric/data/c1639425/Monkey_Brains/derivatives/sub-09/dwi/sub-09_b0_atlas.mat -bins 256 -cost corratio -searchrx -90 90 -searchry -90 90 -searchrz -90 90 -dof 12  -interp nearestneighbour\n"
     ]
    }
   ],
   "source": [
    "def flirt_b0_atlas_b0_monkey(subj_folders,subj_ids,b0_monkey_images,b0_atlas_image):\n",
    "    for subj_folder,subj,b0_monkey in zip(subj_folders,subj_ids,b0_monkey_images):\n",
    "        print(subj)\n",
    "        cmd = 'flirt -in ' + b0_atlas_image + ' -ref ' + b0_monkey + ' -out ' + subj_folder + subj + '_b0_atlas_flirt ' + '-omat ' + subj_folder + subj + '_b0_atlas.mat \\\n",
    "-bins 256 -cost corratio -searchrx -90 90 -searchry -90 90 -searchrz -90 90 -dof 12  -interp nearestneighbour'\n",
    "        print(cmd)\n",
    "        os.system(cmd)\n",
    "        \n",
    "flirt_b0_atlas_b0_monkey(subj_folders,subj_ids,b0_monkey_images,b0_atlas_image)"
   ]
  },
  {
   "cell_type": "markdown",
   "metadata": {},
   "source": [
    "# Apply the transformation matrix to atlas labels\n",
    "\n",
    "The transformation of the atlas b0 image to the monkey specific b0 image will have produced a transformation matrix. Use this matrix to take the atlas labels image (the one where all the regions are labelled) to the monkey specific (native) space. "
   ]
  },
  {
   "cell_type": "code",
   "execution_count": 39,
   "metadata": {},
   "outputs": [
    {
     "name": "stdout",
     "output_type": "stream",
     "text": [
      "['/cubric/data/c1639425/Monkey_Brains/derivatives/sub-01/dwi/sub-01_b0_atlas.mat', '/cubric/data/c1639425/Monkey_Brains/derivatives/sub-02/dwi/sub-02_b0_atlas.mat', '/cubric/data/c1639425/Monkey_Brains/derivatives/sub-03/dwi/sub-03_b0_atlas.mat', '/cubric/data/c1639425/Monkey_Brains/derivatives/sub-04/dwi/sub-04_b0_atlas.mat', '/cubric/data/c1639425/Monkey_Brains/derivatives/sub-05/dwi/sub-05_b0_atlas.mat', '/cubric/data/c1639425/Monkey_Brains/derivatives/sub-06/dwi/sub-06_b0_atlas.mat', '/cubric/data/c1639425/Monkey_Brains/derivatives/sub-07/dwi/sub-07_b0_atlas.mat', '/cubric/data/c1639425/Monkey_Brains/derivatives/sub-08/dwi/sub-08_b0_atlas.mat', '/cubric/data/c1639425/Monkey_Brains/derivatives/sub-09/dwi/sub-09_b0_atlas.mat']\n"
     ]
    }
   ],
   "source": [
    "# Collect atlas b0 transformations\n",
    "transformation_matrices = sorted(glob.glob('/cubric/data/c1639425/Monkey_Brains/derivatives/*/dwi/*_b0_atlas.mat*'))\n",
    "\n",
    "print(transformation_matrices)"
   ]
  },
  {
   "cell_type": "code",
   "execution_count": 42,
   "metadata": {},
   "outputs": [
    {
     "name": "stdout",
     "output_type": "stream",
     "text": [
      "sub-01\n",
      "flirt -in /cubric/data/c1639425/Monkey_Brains/atlas/civm_rhesus_v1_labels.nii.gz -ref /cubric/data/c1639425/Monkey_Brains/derivatives/sub-01/dwi/sub-01_dwi_bet_shuffled_FP_b0.nii.gz -out /cubric/data/c1639425/Monkey_Brains/derivatives/sub-01/dwi/sub-01_registered_labels -applyxfm -init /cubric/data/c1639425/Monkey_Brains/derivatives/sub-01/dwi/sub-01_b0_atlas.mat -interp nearestneighbour\n",
      "sub-02\n",
      "flirt -in /cubric/data/c1639425/Monkey_Brains/atlas/civm_rhesus_v1_labels.nii.gz -ref /cubric/data/c1639425/Monkey_Brains/derivatives/sub-02/dwi/sub-02_dwi_bet_shuffled_FP_b0.nii.gz -out /cubric/data/c1639425/Monkey_Brains/derivatives/sub-02/dwi/sub-02_registered_labels -applyxfm -init /cubric/data/c1639425/Monkey_Brains/derivatives/sub-02/dwi/sub-02_b0_atlas.mat -interp nearestneighbour\n",
      "sub-03\n",
      "flirt -in /cubric/data/c1639425/Monkey_Brains/atlas/civm_rhesus_v1_labels.nii.gz -ref /cubric/data/c1639425/Monkey_Brains/derivatives/sub-03/dwi/sub-03_dwi_bet_shuffled_FP_b0.nii.gz -out /cubric/data/c1639425/Monkey_Brains/derivatives/sub-03/dwi/sub-03_registered_labels -applyxfm -init /cubric/data/c1639425/Monkey_Brains/derivatives/sub-03/dwi/sub-03_b0_atlas.mat -interp nearestneighbour\n",
      "sub-04\n",
      "flirt -in /cubric/data/c1639425/Monkey_Brains/atlas/civm_rhesus_v1_labels.nii.gz -ref /cubric/data/c1639425/Monkey_Brains/derivatives/sub-04/dwi/sub-04_dwi_bet_shuffled_FP_b0.nii.gz -out /cubric/data/c1639425/Monkey_Brains/derivatives/sub-04/dwi/sub-04_registered_labels -applyxfm -init /cubric/data/c1639425/Monkey_Brains/derivatives/sub-04/dwi/sub-04_b0_atlas.mat -interp nearestneighbour\n",
      "sub-05\n",
      "flirt -in /cubric/data/c1639425/Monkey_Brains/atlas/civm_rhesus_v1_labels.nii.gz -ref /cubric/data/c1639425/Monkey_Brains/derivatives/sub-05/dwi/sub-05_dwi_bet_shuffled_FP_b0.nii.gz -out /cubric/data/c1639425/Monkey_Brains/derivatives/sub-05/dwi/sub-05_registered_labels -applyxfm -init /cubric/data/c1639425/Monkey_Brains/derivatives/sub-05/dwi/sub-05_b0_atlas.mat -interp nearestneighbour\n",
      "sub-06\n",
      "flirt -in /cubric/data/c1639425/Monkey_Brains/atlas/civm_rhesus_v1_labels.nii.gz -ref /cubric/data/c1639425/Monkey_Brains/derivatives/sub-06/dwi/sub-06_dwi_bet_shuffled_FP_b0.nii.gz -out /cubric/data/c1639425/Monkey_Brains/derivatives/sub-06/dwi/sub-06_registered_labels -applyxfm -init /cubric/data/c1639425/Monkey_Brains/derivatives/sub-06/dwi/sub-06_b0_atlas.mat -interp nearestneighbour\n",
      "sub-07\n",
      "flirt -in /cubric/data/c1639425/Monkey_Brains/atlas/civm_rhesus_v1_labels.nii.gz -ref /cubric/data/c1639425/Monkey_Brains/derivatives/sub-07/dwi/sub-07_dwi_bet_shuffled_FP_b0.nii.gz -out /cubric/data/c1639425/Monkey_Brains/derivatives/sub-07/dwi/sub-07_registered_labels -applyxfm -init /cubric/data/c1639425/Monkey_Brains/derivatives/sub-07/dwi/sub-07_b0_atlas.mat -interp nearestneighbour\n",
      "sub-08\n",
      "flirt -in /cubric/data/c1639425/Monkey_Brains/atlas/civm_rhesus_v1_labels.nii.gz -ref /cubric/data/c1639425/Monkey_Brains/derivatives/sub-08/dwi/sub-08_dwi_bet_shuffled_FP_b0.nii.gz -out /cubric/data/c1639425/Monkey_Brains/derivatives/sub-08/dwi/sub-08_registered_labels -applyxfm -init /cubric/data/c1639425/Monkey_Brains/derivatives/sub-08/dwi/sub-08_b0_atlas.mat -interp nearestneighbour\n",
      "sub-09\n",
      "flirt -in /cubric/data/c1639425/Monkey_Brains/atlas/civm_rhesus_v1_labels.nii.gz -ref /cubric/data/c1639425/Monkey_Brains/derivatives/sub-09/dwi/sub-09_dwi_bet_shuffled_FP_b0.nii.gz -out /cubric/data/c1639425/Monkey_Brains/derivatives/sub-09/dwi/sub-09_registered_labels -applyxfm -init /cubric/data/c1639425/Monkey_Brains/derivatives/sub-09/dwi/sub-09_b0_atlas.mat -interp nearestneighbour\n"
     ]
    }
   ],
   "source": [
    "def apply_transform_to_atlas(b0_monkey_images,atlas_labels,transformation_matrices,subj_ids,subj_folders):\n",
    "    for b0_monkey_image, transformation, subj, subj_folder in zip(b0_monkey_images, transformation_matrices, subj_ids, subj_folders):\n",
    "        print(subj)\n",
    "        cmd = 'flirt -in ' + atlas_labels + ' -ref ' + b0_monkey_image + ' -out ' + subj_folder + subj + '_registered_labels -applyxfm -init ' + transformation + \\\n",
    "        ' -interp nearestneighbour'\n",
    "        print(cmd)\n",
    "        os.system(cmd)\n",
    "        \n",
    "apply_transform_to_atlas(b0_monkey_images,atlas_labels,transformation_matrices,subj_ids,subj_folders)"
   ]
  },
  {
   "cell_type": "markdown",
   "metadata": {},
   "source": [
    "## Final prep stages\n",
    "\n",
    "You need to inspect each of the images to make sure the transformation of the atlas to the brain has worked well. Following this, you can then extract masks of the regions of interest for further analysis. This will be done using the command-line script 'extract_ROI.py'."
   ]
  },
  {
   "cell_type": "code",
   "execution_count": null,
   "metadata": {},
   "outputs": [],
   "source": []
  }
 ],
 "metadata": {
  "kernelspec": {
   "display_name": "Python 3",
   "language": "python",
   "name": "python3"
  },
  "language_info": {
   "codemirror_mode": {
    "name": "ipython",
    "version": 3
   },
   "file_extension": ".py",
   "mimetype": "text/x-python",
   "name": "python",
   "nbconvert_exporter": "python",
   "pygments_lexer": "ipython3",
   "version": "3.7.7"
  }
 },
 "nbformat": 4,
 "nbformat_minor": 4
}
