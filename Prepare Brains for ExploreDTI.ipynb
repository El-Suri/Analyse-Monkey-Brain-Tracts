{
 "cells": [
  {
   "cell_type": "code",
   "execution_count": 1,
   "metadata": {},
   "outputs": [],
   "source": [
    "import os \n",
    "import pandas as pd\n",
    "import glob\n",
    "import numpy as np"
   ]
  },
  {
   "cell_type": "markdown",
   "metadata": {},
   "source": [
    "## Gather subjects files and IDs"
   ]
  },
  {
   "cell_type": "code",
   "execution_count": 18,
   "metadata": {},
   "outputs": [
    {
     "name": "stdout",
     "output_type": "stream",
     "text": [
      "['sub-01', 'sub-02', 'sub-03', 'sub-04', 'sub-05', 'sub-06', 'sub-07', 'sub-08', 'sub-09']\n",
      "['/cubric/data/c1639425/Monkey_Brains/derivatives/sub-01/dwi/', '/cubric/data/c1639425/Monkey_Brains/derivatives/sub-02/dwi/', '/cubric/data/c1639425/Monkey_Brains/derivatives/sub-03/dwi/', '/cubric/data/c1639425/Monkey_Brains/derivatives/sub-04/dwi/', '/cubric/data/c1639425/Monkey_Brains/derivatives/sub-05/dwi/', '/cubric/data/c1639425/Monkey_Brains/derivatives/sub-06/dwi/', '/cubric/data/c1639425/Monkey_Brains/derivatives/sub-07/dwi/', '/cubric/data/c1639425/Monkey_Brains/derivatives/sub-08/dwi/', '/cubric/data/c1639425/Monkey_Brains/derivatives/sub-09/dwi/']\n"
     ]
    }
   ],
   "source": [
    "paths = sorted(glob.glob('/cubric/data/c1639425/Monkey_Brains/derivatives/*/dwi/'))\n",
    "subject_ids = [x[48:54] for x in paths] \n",
    "print(subject_ids)\n",
    "print(paths)"
   ]
  },
  {
   "cell_type": "markdown",
   "metadata": {},
   "source": [
    "## Extract the b0\n",
    "\n",
    "This can be done in a loop for all monkeys"
   ]
  },
  {
   "cell_type": "code",
   "execution_count": 24,
   "metadata": {},
   "outputs": [
    {
     "name": "stdout",
     "output_type": "stream",
     "text": [
      "fslroi /cubric/data/c1639425/Monkey_Brains/derivatives/sub-01/dwi/sub-01_space-subject_desc-eddy_dwi.nii.gz /cubric/data/c1639425/Monkey_Brains/derivatives/sub-01/dwi/sub-01_dwi_nodif.nii.gz 0 1\n",
      "fslroi /cubric/data/c1639425/Monkey_Brains/derivatives/sub-02/dwi/sub-02_space-subject_desc-eddy_dwi.nii.gz /cubric/data/c1639425/Monkey_Brains/derivatives/sub-02/dwi/sub-02_dwi_nodif.nii.gz 0 1\n",
      "fslroi /cubric/data/c1639425/Monkey_Brains/derivatives/sub-03/dwi/sub-03_space-subject_desc-eddy_dwi.nii.gz /cubric/data/c1639425/Monkey_Brains/derivatives/sub-03/dwi/sub-03_dwi_nodif.nii.gz 0 1\n",
      "fslroi /cubric/data/c1639425/Monkey_Brains/derivatives/sub-04/dwi/sub-04_space-subject_desc-eddy_dwi.nii.gz /cubric/data/c1639425/Monkey_Brains/derivatives/sub-04/dwi/sub-04_dwi_nodif.nii.gz 0 1\n",
      "fslroi /cubric/data/c1639425/Monkey_Brains/derivatives/sub-05/dwi/sub-05_space-subject_desc-eddy_dwi.nii.gz /cubric/data/c1639425/Monkey_Brains/derivatives/sub-05/dwi/sub-05_dwi_nodif.nii.gz 0 1\n",
      "fslroi /cubric/data/c1639425/Monkey_Brains/derivatives/sub-06/dwi/sub-06_space-subject_desc-eddy_dwi.nii.gz /cubric/data/c1639425/Monkey_Brains/derivatives/sub-06/dwi/sub-06_dwi_nodif.nii.gz 0 1\n",
      "fslroi /cubric/data/c1639425/Monkey_Brains/derivatives/sub-07/dwi/sub-07_space-subject_desc-eddy_dwi.nii.gz /cubric/data/c1639425/Monkey_Brains/derivatives/sub-07/dwi/sub-07_dwi_nodif.nii.gz 0 1\n",
      "fslroi /cubric/data/c1639425/Monkey_Brains/derivatives/sub-08/dwi/sub-08_space-subject_desc-eddy_dwi.nii.gz /cubric/data/c1639425/Monkey_Brains/derivatives/sub-08/dwi/sub-08_dwi_nodif.nii.gz 0 1\n",
      "fslroi /cubric/data/c1639425/Monkey_Brains/derivatives/sub-09/dwi/sub-09_space-subject_desc-eddy_dwi.nii.gz /cubric/data/c1639425/Monkey_Brains/derivatives/sub-09/dwi/sub-09_dwi_nodif.nii.gz 0 1\n"
     ]
    }
   ],
   "source": [
    "for path,subj in zip(paths,subject_ids):\n",
    "    #print(path,subj)\n",
    "    cmd = 'fslroi ' + path + subj + '_space-subject_desc-eddy_dwi.nii.gz ' +  path + subj + '_dwi_nodif.nii.gz 0 1'\n",
    "    print(cmd)\n",
    "    os.system(cmd)\n",
    "    \n",
    "    "
   ]
  },
  {
   "cell_type": "markdown",
   "metadata": {},
   "source": [
    "## Skull Strip\n",
    "\n",
    "It's important to visually inspect these results, especially as you only have 9 monkeys. If there are problems find the center cords and alter the F value. As such this is probably best done at the command line, but here is a loop example with 'standard' settings anyway. You can perform this and then adjust as appropriate.  "
   ]
  },
  {
   "cell_type": "code",
   "execution_count": 27,
   "metadata": {},
   "outputs": [
    {
     "name": "stdout",
     "output_type": "stream",
     "text": [
      "bet /cubric/data/c1639425/Monkey_Brains/derivatives/sub-01/dwi/sub-01_dwi_nodif.nii.gz /cubric/data/c1639425/Monkey_Brains/derivatives/sub-01/dwi/sub-01_dwi_nodif_bet.nii.gz -m\n",
      "bet /cubric/data/c1639425/Monkey_Brains/derivatives/sub-02/dwi/sub-02_dwi_nodif.nii.gz /cubric/data/c1639425/Monkey_Brains/derivatives/sub-02/dwi/sub-02_dwi_nodif_bet.nii.gz -m\n",
      "bet /cubric/data/c1639425/Monkey_Brains/derivatives/sub-03/dwi/sub-03_dwi_nodif.nii.gz /cubric/data/c1639425/Monkey_Brains/derivatives/sub-03/dwi/sub-03_dwi_nodif_bet.nii.gz -m\n",
      "bet /cubric/data/c1639425/Monkey_Brains/derivatives/sub-04/dwi/sub-04_dwi_nodif.nii.gz /cubric/data/c1639425/Monkey_Brains/derivatives/sub-04/dwi/sub-04_dwi_nodif_bet.nii.gz -m\n",
      "bet /cubric/data/c1639425/Monkey_Brains/derivatives/sub-05/dwi/sub-05_dwi_nodif.nii.gz /cubric/data/c1639425/Monkey_Brains/derivatives/sub-05/dwi/sub-05_dwi_nodif_bet.nii.gz -m\n",
      "bet /cubric/data/c1639425/Monkey_Brains/derivatives/sub-06/dwi/sub-06_dwi_nodif.nii.gz /cubric/data/c1639425/Monkey_Brains/derivatives/sub-06/dwi/sub-06_dwi_nodif_bet.nii.gz -m\n",
      "bet /cubric/data/c1639425/Monkey_Brains/derivatives/sub-07/dwi/sub-07_dwi_nodif.nii.gz /cubric/data/c1639425/Monkey_Brains/derivatives/sub-07/dwi/sub-07_dwi_nodif_bet.nii.gz -m\n",
      "bet /cubric/data/c1639425/Monkey_Brains/derivatives/sub-08/dwi/sub-08_dwi_nodif.nii.gz /cubric/data/c1639425/Monkey_Brains/derivatives/sub-08/dwi/sub-08_dwi_nodif_bet.nii.gz -m\n",
      "bet /cubric/data/c1639425/Monkey_Brains/derivatives/sub-09/dwi/sub-09_dwi_nodif.nii.gz /cubric/data/c1639425/Monkey_Brains/derivatives/sub-09/dwi/sub-09_dwi_nodif_bet.nii.gz -m\n"
     ]
    }
   ],
   "source": [
    "#cmd_bet = 'bet /cubric/data/c1639425/Monkey_Brains/derivatives/sub-03/dwi/dwi_nodif.nii.gz /cubric/data/c1639425/Monkey_Brains/derivatives/sub-03/dwi/dwi_nodif_bet.nii.gz -c 62 62 20 -f 0.37 -m'\n",
    "\n",
    "for path,subj in zip(paths,subject_ids):\n",
    "    cmd = 'bet ' + path + subj + '_dwi_nodif.nii.gz ' +  path + subj + '_dwi_nodif_bet.nii.gz -m'\n",
    "    print(cmd)\n",
    "    os.system(cmd)\n"
   ]
  },
  {
   "cell_type": "markdown",
   "metadata": {},
   "source": [
    "Final parameters used for BET for each participant:\n",
    "    \n",
    "    sub 1 = bet sub-01_dwi_nodif.nii.gz sub-01_dwi_nodif_bet.nii.gz -c 63 61 23 -f 0.37 -m\n",
    "    sub 2 = bet sub-02_dwi_nodif.nii.gz sub-02_dwi_nodif_bet.nii.gz -c 65 59 24 -f 0.37 -m # maybe part of frontal lobe should be included\n",
    "    sub 3 = bet sub-03_dwi_nodif.nii.gz sub-03_dwi_nodif_bet.nii.gz -c 62 62 20 -f 0.37 -m \n",
    "    sub 4 = bet sub-04_dwi_nodif.nii.gz sub-04_dwi_nodif_bet.nii.gz -c 52 52 19 -f 0.32 -m\n",
    "    sub 5 = bet sub-05_dwi_nodif.nii.gz sub-05_dwi_nodif_bet.nii.gz -c 54 52 23 -f 0.35 -m # Missing part of front right\n",
    "    sub 6 = bet sub-06_dwi_nodif.nii.gz sub-06_dwi_nodif_bet.nii.gz -c 51 50 22 -f 0.37 -m\n",
    "    sub 7 = bet sub-07_dwi_nodif.nii.gz sub-07_dwi_nodif_bet.nii.gz -c 52 53 20 -f 0.37 -m * check with Marc - same part of the brain (bottom, middle left)\n",
    "    sub 8 =  bet sub-08_dwi_nodif.nii.gz sub-08_dwi_nodif_bet.nii.gz -c 54 46 19 -f 0.37 -m * check with Marc\n",
    "    sub 9 = bet sub-09_dwi_nodif.nii.gz sub-09_dwi_nodif_bet.nii.gz -c 52 49 20 -f 0.39 -m\n",
    "\n",
    "    "
   ]
  },
  {
   "cell_type": "markdown",
   "metadata": {},
   "source": [
    "### Multiply the binary mask with the dataset to obtain your skullstripped dwi data\n",
    "\n",
    "<fslmaths dwi_nodif_bet_mask.nii.gz -mul dwi.nii.gz dwi _bet.nii.gz>"
   ]
  },
  {
   "cell_type": "code",
   "execution_count": 2,
   "metadata": {},
   "outputs": [
    {
     "ename": "NameError",
     "evalue": "name 'paths' is not defined",
     "output_type": "error",
     "traceback": [
      "\u001b[0;31m---------------------------------------------------------------------------\u001b[0m",
      "\u001b[0;31mNameError\u001b[0m                                 Traceback (most recent call last)",
      "\u001b[0;32m<ipython-input-2-f5275fb832d4>\u001b[0m in \u001b[0;36m<module>\u001b[0;34m\u001b[0m\n\u001b[0;32m----> 1\u001b[0;31m \u001b[0;32mfor\u001b[0m \u001b[0mpath\u001b[0m\u001b[0;34m,\u001b[0m\u001b[0msubj\u001b[0m \u001b[0;32min\u001b[0m \u001b[0mzip\u001b[0m\u001b[0;34m(\u001b[0m\u001b[0mpaths\u001b[0m\u001b[0;34m,\u001b[0m\u001b[0msubject_ids\u001b[0m\u001b[0;34m)\u001b[0m\u001b[0;34m:\u001b[0m\u001b[0;34m\u001b[0m\u001b[0;34m\u001b[0m\u001b[0m\n\u001b[0m\u001b[1;32m      2\u001b[0m     \u001b[0mcmd_strip\u001b[0m \u001b[0;34m=\u001b[0m \u001b[0;34m'fslmaths '\u001b[0m \u001b[0;34m+\u001b[0m \u001b[0mpath\u001b[0m \u001b[0;34m+\u001b[0m \u001b[0msubj\u001b[0m \u001b[0;34m+\u001b[0m \u001b[0;34m'_dwi_nodif_bet_mask.nii.gz -mul '\u001b[0m \u001b[0;34m+\u001b[0m \u001b[0mpath\u001b[0m \u001b[0;34m+\u001b[0m \u001b[0msubj\u001b[0m \u001b[0;34m+\u001b[0m \u001b[0;34m'_space-subject_desc-eddy_dwi.nii.gz '\u001b[0m \u001b[0;34m+\u001b[0m \u001b[0mpath\u001b[0m \u001b[0;34m+\u001b[0m \u001b[0msubj\u001b[0m \u001b[0;34m+\u001b[0m \u001b[0;34m'_dwi_bet.nii.gz'\u001b[0m\u001b[0;34m\u001b[0m\u001b[0;34m\u001b[0m\u001b[0m\n\u001b[1;32m      3\u001b[0m     \u001b[0mprint\u001b[0m\u001b[0;34m(\u001b[0m\u001b[0mcmd_strip\u001b[0m\u001b[0;34m)\u001b[0m\u001b[0;34m\u001b[0m\u001b[0;34m\u001b[0m\u001b[0m\n\u001b[1;32m      4\u001b[0m     \u001b[0mos\u001b[0m\u001b[0;34m.\u001b[0m\u001b[0msystem\u001b[0m\u001b[0;34m(\u001b[0m\u001b[0mcmd_strip\u001b[0m\u001b[0;34m)\u001b[0m\u001b[0;34m\u001b[0m\u001b[0;34m\u001b[0m\u001b[0m\n",
      "\u001b[0;31mNameError\u001b[0m: name 'paths' is not defined"
     ]
    }
   ],
   "source": [
    "for path,subj in zip(paths,subject_ids):\n",
    "    cmd_strip = 'fslmaths ' + path + subj + '_dwi_nodif_bet_mask.nii.gz -mul ' + path + subj + '_space-subject_desc-eddy_dwi.nii.gz ' + path + subj + '_dwi_bet.nii.gz' \n",
    "    print(cmd_strip)\n",
    "    os.system(cmd_strip)"
   ]
  },
  {
   "cell_type": "markdown",
   "metadata": {},
   "source": [
    "## Reorder bvec and bval files\n",
    "\n",
    "For further analysis the b0 images need to be at the beginning. You can change the order of the images using Explore DTI, but you must also change the bval and bvec files. Below, the code loads in the bval files, finds where the 0 values are, and then moves the b0 data from both bval and bvec files to the beginning. "
   ]
  },
  {
   "cell_type": "markdown",
   "metadata": {},
   "source": [
    "## Define the function that moves items in a list around.\n",
    "\n",
    "If you want to make this better you can let it takes multiple original and final indexes. Don't really need it here as there are only two values to change for each subject. if you have more though it means a seperate call to 'move' each tim you want to move something, which can get messy. \n"
   ]
  },
  {
   "cell_type": "code",
   "execution_count": 261,
   "metadata": {},
   "outputs": [],
   "source": [
    "def move(a_list, original_index, final_index):\n",
    "    a_list.insert(final_index, a_list.pop(original_index))\n",
    "    return a_list\n",
    "    "
   ]
  },
  {
   "cell_type": "markdown",
   "metadata": {},
   "source": [
    "## Re-arrange bval and bvec files\n",
    "\n",
    "This function takes in a list of bvec and bval files, finds where the 0 values are in the bval file, and uses the index position to move bval and associated bvec values to the front. This makes it ready for Explore DTI, which expects b0's at the front. This currently only works if there are two b0 values."
   ]
  },
  {
   "cell_type": "code",
   "execution_count": 277,
   "metadata": {},
   "outputs": [
    {
     "name": "stdout",
     "output_type": "stream",
     "text": [
      "Processing /cubric/data/c1639425/Monkey_Brains/derivatives/sub-01/dwi/sub-01_space-subject_desc-eddy_dwi.bval\n",
      "/cubric/data/c1639425/Monkey_Brains/derivatives/sub-01/dwi/\n",
      "B0's are located at :\n",
      "(array([ 0, 65]),)\n",
      "Moving bval 0's to front of file\n",
      "\n",
      "Processing/cubric/data/c1639425/Monkey_Brains/derivatives/sub-01/dwi/sub-01_space-subject_desc-eddy_dwi.bvec\n",
      "Moving bvec b0 values to the front for each dimension\n",
      "Done\n",
      "\n",
      "Processing /cubric/data/c1639425/Monkey_Brains/derivatives/sub-02/dwi/sub-02_space-subject_desc-eddy_dwi.bval\n",
      "/cubric/data/c1639425/Monkey_Brains/derivatives/sub-02/dwi/\n",
      "B0's are located at :\n",
      "(array([ 0, 65]),)\n",
      "Moving bval 0's to front of file\n",
      "\n",
      "Processing/cubric/data/c1639425/Monkey_Brains/derivatives/sub-02/dwi/sub-02_space-subject_desc-eddy_dwi.bvec\n",
      "Moving bvec b0 values to the front for each dimension\n",
      "Done\n",
      "\n",
      "Processing /cubric/data/c1639425/Monkey_Brains/derivatives/sub-03/dwi/sub-03_space-subject_desc-eddy_dwi.bval\n",
      "/cubric/data/c1639425/Monkey_Brains/derivatives/sub-03/dwi/\n",
      "B0's are located at :\n",
      "(array([ 0, 65]),)\n",
      "Moving bval 0's to front of file\n",
      "\n",
      "Processing/cubric/data/c1639425/Monkey_Brains/derivatives/sub-03/dwi/sub-03_space-subject_desc-eddy_dwi.bvec\n",
      "Moving bvec b0 values to the front for each dimension\n",
      "Done\n",
      "\n",
      "Processing /cubric/data/c1639425/Monkey_Brains/derivatives/sub-04/dwi/sub-04_space-subject_desc-eddy_dwi.bval\n",
      "/cubric/data/c1639425/Monkey_Brains/derivatives/sub-04/dwi/\n",
      "B0's are located at :\n",
      "(array([ 0, 65]),)\n",
      "Moving bval 0's to front of file\n",
      "\n",
      "Processing/cubric/data/c1639425/Monkey_Brains/derivatives/sub-04/dwi/sub-04_space-subject_desc-eddy_dwi.bvec\n",
      "Moving bvec b0 values to the front for each dimension\n",
      "Done\n",
      "\n",
      "Processing /cubric/data/c1639425/Monkey_Brains/derivatives/sub-05/dwi/sub-05_space-subject_desc-eddy_dwi.bval\n",
      "/cubric/data/c1639425/Monkey_Brains/derivatives/sub-05/dwi/\n",
      "B0's are located at :\n",
      "(array([ 0, 65]),)\n",
      "Moving bval 0's to front of file\n",
      "\n",
      "Processing/cubric/data/c1639425/Monkey_Brains/derivatives/sub-05/dwi/sub-05_space-subject_desc-eddy_dwi.bvec\n",
      "Moving bvec b0 values to the front for each dimension\n",
      "Done\n",
      "\n",
      "Processing /cubric/data/c1639425/Monkey_Brains/derivatives/sub-06/dwi/sub-06_space-subject_desc-eddy_dwi.bval\n",
      "/cubric/data/c1639425/Monkey_Brains/derivatives/sub-06/dwi/\n",
      "B0's are located at :\n",
      "(array([ 0, 65]),)\n",
      "Moving bval 0's to front of file\n",
      "\n",
      "Processing/cubric/data/c1639425/Monkey_Brains/derivatives/sub-06/dwi/sub-06_space-subject_desc-eddy_dwi.bvec\n",
      "Moving bvec b0 values to the front for each dimension\n",
      "Done\n",
      "\n",
      "Processing /cubric/data/c1639425/Monkey_Brains/derivatives/sub-07/dwi/sub-07_space-subject_desc-eddy_dwi.bval\n",
      "/cubric/data/c1639425/Monkey_Brains/derivatives/sub-07/dwi/\n",
      "B0's are located at :\n",
      "(array([ 0, 65]),)\n",
      "Moving bval 0's to front of file\n",
      "\n",
      "Processing/cubric/data/c1639425/Monkey_Brains/derivatives/sub-07/dwi/sub-07_space-subject_desc-eddy_dwi.bvec\n",
      "Moving bvec b0 values to the front for each dimension\n",
      "Done\n",
      "\n",
      "Processing /cubric/data/c1639425/Monkey_Brains/derivatives/sub-08/dwi/sub-08_space-subject_desc-eddy_dwi.bval\n",
      "/cubric/data/c1639425/Monkey_Brains/derivatives/sub-08/dwi/\n",
      "B0's are located at :\n",
      "(array([ 0, 65]),)\n",
      "Moving bval 0's to front of file\n",
      "\n",
      "Processing/cubric/data/c1639425/Monkey_Brains/derivatives/sub-08/dwi/sub-08_space-subject_desc-eddy_dwi.bvec\n",
      "Moving bvec b0 values to the front for each dimension\n",
      "Done\n",
      "\n",
      "Processing /cubric/data/c1639425/Monkey_Brains/derivatives/sub-09/dwi/sub-09_space-subject_desc-eddy_dwi.bval\n",
      "/cubric/data/c1639425/Monkey_Brains/derivatives/sub-09/dwi/\n",
      "B0's are located at :\n",
      "(array([ 0, 65]),)\n",
      "Moving bval 0's to front of file\n",
      "\n",
      "Processing/cubric/data/c1639425/Monkey_Brains/derivatives/sub-09/dwi/sub-09_space-subject_desc-eddy_dwi.bvec\n",
      "Moving bvec b0 values to the front for each dimension\n",
      "Done\n",
      "\n"
     ]
    }
   ],
   "source": [
    "def reorder_bvals_bvecs(paths, bval_files,bvec_files):\n",
    "    for path, bval_file, bvec_file in zip(paths,bval_files,bvec_files):\n",
    "        ## Import bval_file as np array, find 0 values, and save index positions\n",
    "        print('Processing ' + bval_file)\n",
    "        print(path)\n",
    "        bval = np.loadtxt(bval_file)\n",
    "        #print(bval[0])\n",
    "        zeros = np.where(bval == 0)\n",
    "        print('B0\\'s are located at :')\n",
    "        print(zeros)\n",
    "        bval_list = list(bval)\n",
    "        #print(bval_list)\n",
    "        print('Moving bval 0\\'s to front of file')\n",
    "        move(bval_list,zeros[0][0],0)\n",
    "        move(bval_list,zeros[0][1],1)\n",
    "        #add another 'move' here if you have more than one b0, so it would look like move(bval_list,zeros[0][2],2)\n",
    "        #print(bval_list) \n",
    "        bval_df = pd.DataFrame(bval_list)\n",
    "        bval_transposed = bval_df.T\n",
    "        #bval_df.loc[0] = bval_list\n",
    "        #print(bval_transposed)\n",
    "        bval_transposed.to_csv(path + 'space-subject_desc-eddy_dwi_updated.bval', index =False, header = None, sep = ' ')\n",
    "        print('')\n",
    "        print('Processing' + bvec_file)\n",
    "        df = pd.read_csv(bvec_file, header = None, sep = ' ')\n",
    "        #put each dimension into its own list\n",
    "        dim1 = df.loc[0].tolist()\n",
    "        dim2 = df.loc[1].tolist()\n",
    "        dim3 = df.loc[2].tolist()\n",
    "        #print(dim1)\n",
    "        #print(dim2)\n",
    "        #print(dim3)\n",
    "        ## Run function that moves the values around.\n",
    "        print('Moving bvec b0 values to the front for each dimension')\n",
    "        move(dim1,zeros[0][0],0)\n",
    "        move(dim2,zeros[0][0],0)\n",
    "        move(dim3,zeros[0][0],0)\n",
    "        move(dim1,zeros[0][1],1)\n",
    "        move(dim2,zeros[0][1],1)\n",
    "        move(dim3,zeros[0][1],1)\n",
    "        #print(dim1)\n",
    "        #print(dim2)\n",
    "        #print(dim3)\n",
    "        #print('Saving new bvec file')\n",
    "        #write_bvec_files(path,dim1,dim2,dim3)\n",
    "        print('Done')\n",
    "        print('')\n",
    "        df.loc[0] = dim1\n",
    "        df.loc[1] = dim2\n",
    "        df.loc[2] = dim3\n",
    "        df.to_csv(path + 'space-subject_desc-eddy_dwi_updated.bvec',header = None,sep = ' ', index = False)\n",
    "        \n",
    "\n",
    "bval_files = sorted(glob.glob('/cubric/data/c1639425/Monkey_Brains/derivatives/*/dwi/*_space-subject_desc-eddy_dwi.bval'))\n",
    "#print(bval_files)\n",
    "bvec_files = sorted(glob.glob('/cubric/data/c1639425/Monkey_Brains/derivatives/*/dwi/*_space-subject_desc-eddy_dwi.bvec'))\n",
    "#print(bvec_files)\n",
    "paths = sorted(glob.glob('/cubric/data/c1639425/Monkey_Brains/derivatives/*/dwi/'))\n",
    "#print(paths)\n",
    "reorder_bvals_bvecs(paths,bval_files,bvec_files)"
   ]
  },
  {
   "cell_type": "markdown",
   "metadata": {},
   "source": [
    "Next, go into ExploreDTI and do the following:\n",
    "\n",
    "6) Now use the ExploreDTI plugin ‘Convert …*.bval/*.bvec to B-matrix *.txt file(s)’, to generate a bmatrix based on the bval and bvec files\n",
    "\n",
    "7) As well as all the above, I would recommend that at some point prior to generating the .mat file in subsequent steps, you also use the ExploreDTI plugin “Flip/permute dimensions in 3D/4D *.nii file(s)”, to make the images ExploreDTI friendly and avoid problems with flipping of axes. \n",
    "\n",
    "8) Use the 'Convert raw data to DTI *.mat' tool to convert the nifti image and corresponding bmatrix to a dti .mat file. I will need to check that the acquisition protocol was consistent across the monkey species/subjects, but the parameters I used just now which worked fine for subject 1 were:\n",
    "\n",
    "\n",
    "\n",
    "Note: I set Background masking to None whereas the default is automatic. You can try automatic if you like, without performing the various bet and fslmaths steps above that are done for masking/skull-stripping. Whichever route you go though, you will need a no_dif image for DWI-to-T1 registration (and more importantly the inverse transform for taking T1-derived region labels from T1 to native diffusion space). Linear is also the least fancy ‘Diffusion tensor estimation’ setting – I’ve used it here just for speed of testing. You can set it to non-linear or summat if you like but I wouldn’t worry about it for an initial test run.\n"
   ]
  },
  {
   "cell_type": "code",
   "execution_count": null,
   "metadata": {},
   "outputs": [],
   "source": []
  }
 ],
 "metadata": {
  "kernelspec": {
   "display_name": "Python 3",
   "language": "python",
   "name": "python3"
  },
  "language_info": {
   "codemirror_mode": {
    "name": "ipython",
    "version": 3
   },
   "file_extension": ".py",
   "mimetype": "text/x-python",
   "name": "python",
   "nbconvert_exporter": "python",
   "pygments_lexer": "ipython3",
   "version": "3.7.7"
  }
 },
 "nbformat": 4,
 "nbformat_minor": 4
}
