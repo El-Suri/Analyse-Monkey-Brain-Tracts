{
 "cells": [
  {
   "cell_type": "code",
   "execution_count": 2,
   "metadata": {},
   "outputs": [],
   "source": [
    "import os\n",
    "import glob"
   ]
  },
  {
   "cell_type": "code",
   "execution_count": 5,
   "metadata": {},
   "outputs": [
    {
     "name": "stdout",
     "output_type": "stream",
     "text": [
      "9\n"
     ]
    }
   ],
   "source": [
    "# Collect all saved tracts using glob search\n",
    "saved_tracts = sorted(glob.glob('/cubric/data/c1639425/Monkey_Brains/derivatives/sub-0*/dwi/*_Tract_mask.nii'))\n",
    "#print(saved_tracts)\n",
    "print(len(saved_tracts))"
   ]
  },
  {
   "cell_type": "code",
   "execution_count": 9,
   "metadata": {},
   "outputs": [
    {
     "name": "stdout",
     "output_type": "stream",
     "text": [
      "fslmaths /cubric/data/c1639425/Monkey_Brains/derivatives/sub-01/dwi/sub_01_Tract_mask.nii -bin /cubric/data/c1639425/Monkey_Brains/derivatives/sub-01/dwi/sub_01_Tract_mask_bin\n",
      "fslmaths /cubric/data/c1639425/Monkey_Brains/derivatives/sub-02/dwi/sub_02_Tract_mask.nii -bin /cubric/data/c1639425/Monkey_Brains/derivatives/sub-02/dwi/sub_02_Tract_mask_bin\n",
      "fslmaths /cubric/data/c1639425/Monkey_Brains/derivatives/sub-03/dwi/sub_03_Tract_mask.nii -bin /cubric/data/c1639425/Monkey_Brains/derivatives/sub-03/dwi/sub_03_Tract_mask_bin\n",
      "fslmaths /cubric/data/c1639425/Monkey_Brains/derivatives/sub-04/dwi/sub_04_Tract_mask.nii -bin /cubric/data/c1639425/Monkey_Brains/derivatives/sub-04/dwi/sub_04_Tract_mask_bin\n",
      "fslmaths /cubric/data/c1639425/Monkey_Brains/derivatives/sub-05/dwi/sub_05_Tract_mask.nii -bin /cubric/data/c1639425/Monkey_Brains/derivatives/sub-05/dwi/sub_05_Tract_mask_bin\n",
      "fslmaths /cubric/data/c1639425/Monkey_Brains/derivatives/sub-06/dwi/sub_06_Tract_mask.nii -bin /cubric/data/c1639425/Monkey_Brains/derivatives/sub-06/dwi/sub_06_Tract_mask_bin\n",
      "fslmaths /cubric/data/c1639425/Monkey_Brains/derivatives/sub-07/dwi/sub_07_Tract_mask.nii -bin /cubric/data/c1639425/Monkey_Brains/derivatives/sub-07/dwi/sub_07_Tract_mask_bin\n",
      "fslmaths /cubric/data/c1639425/Monkey_Brains/derivatives/sub-08/dwi/sub_08_Tract_mask.nii -bin /cubric/data/c1639425/Monkey_Brains/derivatives/sub-08/dwi/sub_08_Tract_mask_bin\n",
      "fslmaths /cubric/data/c1639425/Monkey_Brains/derivatives/sub-09/dwi/sub_09_Tract_mask.nii -bin /cubric/data/c1639425/Monkey_Brains/derivatives/sub-09/dwi/sub_09_Tract_mask_bin\n",
      "['/cubric/data/c1639425/Monkey_Brains/derivatives/sub-01/dwi/sub_01_Tract_mask_bin.nii.gz', '/cubric/data/c1639425/Monkey_Brains/derivatives/sub-02/dwi/sub_02_Tract_mask_bin.nii.gz', '/cubric/data/c1639425/Monkey_Brains/derivatives/sub-03/dwi/sub_03_Tract_mask_bin.nii.gz', '/cubric/data/c1639425/Monkey_Brains/derivatives/sub-04/dwi/sub_04_Tract_mask_bin.nii.gz', '/cubric/data/c1639425/Monkey_Brains/derivatives/sub-05/dwi/sub_05_Tract_mask_bin.nii.gz', '/cubric/data/c1639425/Monkey_Brains/derivatives/sub-06/dwi/sub_06_Tract_mask_bin.nii.gz', '/cubric/data/c1639425/Monkey_Brains/derivatives/sub-07/dwi/sub_07_Tract_mask_bin.nii.gz', '/cubric/data/c1639425/Monkey_Brains/derivatives/sub-08/dwi/sub_08_Tract_mask_bin.nii.gz', '/cubric/data/c1639425/Monkey_Brains/derivatives/sub-09/dwi/sub_09_Tract_mask_bin.nii.gz']\n",
      "9\n"
     ]
    }
   ],
   "source": [
    "# Binarise tracts\n",
    "for subject in saved_tracts:\n",
    "    cmd = 'fslmaths ' + subject + ' -bin ' + subject[0:-4] + '_bin'\n",
    "    print(cmd)\n",
    "    os.system(cmd)\n",
    "\n",
    "    \n",
    "    \n",
    "# Collect results \n",
    "bin_tracts = sorted(glob.glob('/cubric/data/c1639425/Monkey_Brains/derivatives/sub-0*/dwi/*_Tract_mask_bin.nii.gz'))\n",
    "#print(bin_tracts)\n",
    "print(len(bin_tracts))\n"
   ]
  },
  {
   "cell_type": "code",
   "execution_count": 21,
   "metadata": {
    "scrolled": true
   },
   "outputs": [
    {
     "name": "stdout",
     "output_type": "stream",
     "text": [
      "flirt -in /cubric/data/c1639425/Monkey_Brains/derivatives/sub-01/dwi/sub_01_Tract_mask_bin.nii.gz -ref /cubric/data/c1639425/Monkey_Brains/atlas/civm_rhesus_v1_b0.nii.gz -out /cubric/data/c1639425/Monkey_Brains/derivatives/sub-01/dwi/sub_01_Tract_mask_bin_atlas_space -applyxfm -init /cubric/data/c1639425/Monkey_Brains/derivatives/sub-01/dwi/sub-01_b0_atlas_inverse.mat\n",
      "flirt -in /cubric/data/c1639425/Monkey_Brains/derivatives/sub-02/dwi/sub_02_Tract_mask_bin.nii.gz -ref /cubric/data/c1639425/Monkey_Brains/atlas/civm_rhesus_v1_b0.nii.gz -out /cubric/data/c1639425/Monkey_Brains/derivatives/sub-02/dwi/sub_02_Tract_mask_bin_atlas_space -applyxfm -init /cubric/data/c1639425/Monkey_Brains/derivatives/sub-02/dwi/sub-02_b0_atlas_inverse.mat\n",
      "flirt -in /cubric/data/c1639425/Monkey_Brains/derivatives/sub-03/dwi/sub_03_Tract_mask_bin.nii.gz -ref /cubric/data/c1639425/Monkey_Brains/atlas/civm_rhesus_v1_b0.nii.gz -out /cubric/data/c1639425/Monkey_Brains/derivatives/sub-03/dwi/sub_03_Tract_mask_bin_atlas_space -applyxfm -init /cubric/data/c1639425/Monkey_Brains/derivatives/sub-03/dwi/sub-03_b0_atlas_inverse.mat\n",
      "flirt -in /cubric/data/c1639425/Monkey_Brains/derivatives/sub-04/dwi/sub_04_Tract_mask_bin.nii.gz -ref /cubric/data/c1639425/Monkey_Brains/atlas/civm_rhesus_v1_b0.nii.gz -out /cubric/data/c1639425/Monkey_Brains/derivatives/sub-04/dwi/sub_04_Tract_mask_bin_atlas_space -applyxfm -init /cubric/data/c1639425/Monkey_Brains/derivatives/sub-04/dwi/sub-04_b0_atlas_inverse.mat\n",
      "flirt -in /cubric/data/c1639425/Monkey_Brains/derivatives/sub-05/dwi/sub_05_Tract_mask_bin.nii.gz -ref /cubric/data/c1639425/Monkey_Brains/atlas/civm_rhesus_v1_b0.nii.gz -out /cubric/data/c1639425/Monkey_Brains/derivatives/sub-05/dwi/sub_05_Tract_mask_bin_atlas_space -applyxfm -init /cubric/data/c1639425/Monkey_Brains/derivatives/sub-05/dwi/sub-05_b0_atlas_inverse.mat\n",
      "flirt -in /cubric/data/c1639425/Monkey_Brains/derivatives/sub-06/dwi/sub_06_Tract_mask_bin.nii.gz -ref /cubric/data/c1639425/Monkey_Brains/atlas/civm_rhesus_v1_b0.nii.gz -out /cubric/data/c1639425/Monkey_Brains/derivatives/sub-06/dwi/sub_06_Tract_mask_bin_atlas_space -applyxfm -init /cubric/data/c1639425/Monkey_Brains/derivatives/sub-06/dwi/sub-06_b0_atlas_inverse.mat\n",
      "flirt -in /cubric/data/c1639425/Monkey_Brains/derivatives/sub-07/dwi/sub_07_Tract_mask_bin.nii.gz -ref /cubric/data/c1639425/Monkey_Brains/atlas/civm_rhesus_v1_b0.nii.gz -out /cubric/data/c1639425/Monkey_Brains/derivatives/sub-07/dwi/sub_07_Tract_mask_bin_atlas_space -applyxfm -init /cubric/data/c1639425/Monkey_Brains/derivatives/sub-07/dwi/sub-07_b0_atlas_inverse.mat\n",
      "flirt -in /cubric/data/c1639425/Monkey_Brains/derivatives/sub-08/dwi/sub_08_Tract_mask_bin.nii.gz -ref /cubric/data/c1639425/Monkey_Brains/atlas/civm_rhesus_v1_b0.nii.gz -out /cubric/data/c1639425/Monkey_Brains/derivatives/sub-08/dwi/sub_08_Tract_mask_bin_atlas_space -applyxfm -init /cubric/data/c1639425/Monkey_Brains/derivatives/sub-08/dwi/sub-08_b0_atlas_inverse.mat\n",
      "flirt -in /cubric/data/c1639425/Monkey_Brains/derivatives/sub-09/dwi/sub_09_Tract_mask_bin.nii.gz -ref /cubric/data/c1639425/Monkey_Brains/atlas/civm_rhesus_v1_b0.nii.gz -out /cubric/data/c1639425/Monkey_Brains/derivatives/sub-09/dwi/sub_09_Tract_mask_bin_atlas_space -applyxfm -init /cubric/data/c1639425/Monkey_Brains/derivatives/sub-09/dwi/sub-09_b0_atlas_inverse.mat\n"
     ]
    }
   ],
   "source": [
    "# Warp tracts to atlas space using inverse of atlas b0 to native b0 transformation\n",
    "\n",
    "# Collect atlas b0 transformations\n",
    "transformation_matrices = sorted(glob.glob('/cubric/data/c1639425/Monkey_Brains/derivatives/*/dwi/*_b0_atlas.mat'))\n",
    "#print(transformation_matrices)\n",
    "\n",
    "ref_atlas_image = '/cubric/data/c1639425/Monkey_Brains/atlas/civm_rhesus_v1_b0.nii.gz'\n",
    "\n",
    "#Invert transformation matrices\n",
    "for transform in transformation_matrices:\n",
    "    cmd = 'convert_xfm -omat ' + transform[0:-4] + '_inverse.mat' + ' -inverse ' + transform\n",
    "    print(cmd)\n",
    "    os.system(cmd)\n",
    "\n",
    "\n",
    "# Collect inverted transforms\n",
    "inverse_transformation_matrices = sorted(glob.glob('/cubric/data/c1639425/Monkey_Brains/derivatives/*/dwi/*_b0_atlas_inverse.mat'))\n",
    "print(len(inverse_transformation_matrices))\n",
    "\n",
    "# Perform the native to atlas transformations\n",
    "for tract, transform in zip(bin_tracts,inverse_transformation_matrices):\n",
    "    cmd = 'flirt -in ' + tract + ' -ref ' + ref_atlas_image + ' -out ' + tract[0:-7] + '_atlas_space' + ' -applyxfm -init ' + transform\n",
    "    print(cmd)\n",
    "    os.system(cmd)"
   ]
  },
  {
   "cell_type": "code",
   "execution_count": null,
   "metadata": {},
   "outputs": [],
   "source": []
  },
  {
   "cell_type": "code",
   "execution_count": 24,
   "metadata": {},
   "outputs": [
    {
     "name": "stdout",
     "output_type": "stream",
     "text": [
      "fslmaths /cubric/data/c1639425/Monkey_Brains/derivatives/sub-01/dwi/sub_01_Tract_mask_bin_atlas_space.nii.gz -add /cubric/data/c1639425/Monkey_Brains/derivatives/sub-02/dwi/sub_02_Tract_mask_bin_atlas_space.nii.gz -add /cubric/data/c1639425/Monkey_Brains/derivatives/sub-03/dwi/sub_03_Tract_mask_bin_atlas_space.nii.gz -add /cubric/data/c1639425/Monkey_Brains/derivatives/sub-04/dwi/sub_04_Tract_mask_bin_atlas_space.nii.gz -add /cubric/data/c1639425/Monkey_Brains/derivatives/sub-05/dwi/sub_05_Tract_mask_bin_atlas_space.nii.gz -add /cubric/data/c1639425/Monkey_Brains/derivatives/sub-06/dwi/sub_06_Tract_mask_bin_atlas_space.nii.gz -add /cubric/data/c1639425/Monkey_Brains/derivatives/sub-07/dwi/sub_07_Tract_mask_bin_atlas_space.nii.gz -add /cubric/data/c1639425/Monkey_Brains/derivatives/sub-08/dwi/sub_08_Tract_mask_bin_atlas_space.nii.gz -add /cubric/data/c1639425/Monkey_Brains/derivatives/sub-09/dwi/sub_09_Tract_mask_bin_atlas_space.nii.gz /cubric/data/c1639425/Monkey_Brains/probability_mask\n"
     ]
    },
    {
     "data": {
      "text/plain": [
       "0"
      ]
     },
     "execution_count": 24,
     "metadata": {},
     "output_type": "execute_result"
    }
   ],
   "source": [
    "# Add masks together \n",
    "\n",
    "atlas_space_tracts = sorted(glob.glob('/cubric/data/c1639425/Monkey_Brains/derivatives/*/dwi/*_Tract_mask_bin_atlas_space.nii.gz'))\n",
    "\n",
    "cmd = 'fslmaths ' + atlas_space_tracts[0] + ' -add ' + atlas_space_tracts[1] + ' -add ' + atlas_space_tracts[2] + \\\n",
    "' -add ' + atlas_space_tracts[3] + ' -add ' + atlas_space_tracts[4] + ' -add ' + atlas_space_tracts[5] + ' -add ' + atlas_space_tracts[6] + \\\n",
    "' -add ' + atlas_space_tracts[7] + ' -add ' + atlas_space_tracts[8] + ' /cubric/data/c1639425/Monkey_Brains/probability_mask'\n",
    "\n",
    "print(cmd)\n",
    "os.system(cmd)"
   ]
  },
  {
   "cell_type": "code",
   "execution_count": null,
   "metadata": {},
   "outputs": [],
   "source": []
  }
 ],
 "metadata": {
  "kernelspec": {
   "display_name": "Python 3",
   "language": "python",
   "name": "python3"
  },
  "language_info": {
   "codemirror_mode": {
    "name": "ipython",
    "version": 3
   },
   "file_extension": ".py",
   "mimetype": "text/x-python",
   "name": "python",
   "nbconvert_exporter": "python",
   "pygments_lexer": "ipython3",
   "version": "3.7.7"
  }
 },
 "nbformat": 4,
 "nbformat_minor": 4
}
