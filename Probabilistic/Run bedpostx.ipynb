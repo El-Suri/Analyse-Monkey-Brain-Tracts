{
 "cells": [
  {
   "cell_type": "markdown",
   "metadata": {},
   "source": [
    "# Probabilistic Tractography Pipeline\n",
    "\n",
    "Here we are mostly follwing the user guide from FSLs BEDPOSTX method for running probabilistic tractography. Although this is set up to be run after having run the deterministic pipeline, with a few changes to the paths and inputs the pipeline can easily be changed to run on any dwi dataset. \n",
    "https://fsl.fmrib.ox.ac.uk/fsl/fslwiki/FDT/UserGuide"
   ]
  },
  {
   "cell_type": "code",
   "execution_count": 1,
   "metadata": {},
   "outputs": [],
   "source": [
    "# Import all libraries needed\n",
    "\n",
    "import os\n",
    "import pandas as pd\n",
    "import numpy as np\n",
    "import glob\n",
    "import seaborn as sns\n",
    "from matplotlib import pyplot as plt\n",
    "import statistics"
   ]
  },
  {
   "cell_type": "code",
   "execution_count": 2,
   "metadata": {},
   "outputs": [
    {
     "name": "stdout",
     "output_type": "stream",
     "text": [
      "['/cubric/data/c1639425/Monkey_Brains/derivatives/sub-01/dwi/', '/cubric/data/c1639425/Monkey_Brains/derivatives/sub-02/dwi/', '/cubric/data/c1639425/Monkey_Brains/derivatives/sub-03/dwi/', '/cubric/data/c1639425/Monkey_Brains/derivatives/sub-04/dwi/', '/cubric/data/c1639425/Monkey_Brains/derivatives/sub-05/dwi/', '/cubric/data/c1639425/Monkey_Brains/derivatives/sub-06/dwi/', '/cubric/data/c1639425/Monkey_Brains/derivatives/sub-07/dwi/', '/cubric/data/c1639425/Monkey_Brains/derivatives/sub-08/dwi/', '/cubric/data/c1639425/Monkey_Brains/derivatives/sub-09/dwi/']\n",
      "['sub-01', 'sub-02', 'sub-03', 'sub-04', 'sub-05', 'sub-06', 'sub-07', 'sub-08', 'sub-09']\n"
     ]
    }
   ],
   "source": [
    "# Collect some useful path and file info. \n",
    "\n",
    "folder_path = '/cubric/data/c1639425/Monkey_Brains/derivatives/sub-*/dwi/'\n",
    "subject_folders = sorted(glob.glob(folder_path))\n",
    "print(subject_folders)\n",
    "\n",
    "subjects = []\n",
    "for file in sorted(glob.glob(folder_path)):\n",
    "    name = file.split(os.path.sep)[-3]\n",
    "    subjects.append(name)\n",
    "    \n",
    "print(subjects)"
   ]
  },
  {
   "cell_type": "markdown",
   "metadata": {},
   "source": [
    "## Create folders and files for BEDPOSTX analysis\n",
    "\n",
    "Find whether the BEDPOSTX-ready folder exists (here called 'probabilistic') and if not create the folder and place the appropriate files there. This will only work 'out-the-box' if you have already run the deterministic pipeline. Otherwise you only need the bval, bvec, DWI data, and a b0 mask of each participant, so you can easily alter the script below to find these for each of your subjects. Check https://fsl.fmrib.ox.ac.uk/fsl/fslwiki/FDT/UserGuide#BEDPOSTX for a guide."
   ]
  },
  {
   "cell_type": "code",
   "execution_count": null,
   "metadata": {
    "scrolled": false
   },
   "outputs": [],
   "source": [
    "def create_bedpostx_folders (subjects, subject_folders):\n",
    "    for subj, subj_folder in zip(subjects, subject_folders):\n",
    "        prob_folder_location = '/cubric/data/c1639425/Monkey_Brains/derivatives/' + subj + '/dwi/probabilistic/'\n",
    "        does_it_exist = glob.glob(prob_folder_location)\n",
    "        if does_it_exist:\n",
    "            print(subj + '\\'s folder already exists')\n",
    "            continue\n",
    "        else:\n",
    "            print(subj + '\\s folder does not exist')\n",
    "            print('Creating ' + subj + ' folder')\n",
    "            cmd = 'mkdir ' + prob_folder_location\n",
    "            print(cmd)\n",
    "            os.system(cmd)\n",
    "\n",
    "        cmd = 'cp ' + subj_folder + 'space-subject_desc-eddy_dwi_updated.bval ' + prob_folder_location + 'bvals'\n",
    "        print(cmd)\n",
    "        os.system(cmd)\n",
    "\n",
    "        cmd = 'cp ' + subj_folder + 'space-subject_desc-eddy_dwi_updated.bvec ' + prob_folder_location + 'bvecs'\n",
    "        print(cmd)\n",
    "        os.system(cmd)\n",
    "\n",
    "        cmd = 'cp ' + subj_folder + subj + '_dwi_bet_shuffled_FP.nii ' + prob_folder_location + 'data.nii'\n",
    "        print(cmd)\n",
    "        os.system(cmd)\n",
    "\n",
    "        cmd = 'gzip ' + prob_folder_location + 'data.nii'\n",
    "        print(cmd)\n",
    "        os.system(cmd)\n",
    "\n",
    "        cmd = 'rm ' + prob_folder_location + 'data.nii'\n",
    "        print(cmd)\n",
    "        os.system(cmd)\n",
    "\n",
    "        cmd = 'cp ' + subj_folder + subj + '_dwi_nodif_bet_mask.nii.gz ' + prob_folder_location + 'nodif_brain_mask.nii.gz'\n",
    "        print(cmd)\n",
    "        os.system(cmd)\n",
    "\n",
    "    \n",
    "# create_bedpostx_folders(subjects,subject_folders)\n",
    "\n",
    "# Note, for subject 2 of the monkey dataset, part of the data is corrupted so you must use the 'trimed file' to \n",
    "# create the data.nii image as per the step above.\n"
   ]
  },
  {
   "cell_type": "markdown",
   "metadata": {},
   "source": [
    "# Run BedPostX  \n",
    "\n",
    "this will take a while...."
   ]
  },
  {
   "cell_type": "code",
   "execution_count": null,
   "metadata": {},
   "outputs": [],
   "source": [
    "def runbedpostx(subject_folders):\n",
    "    for subj_path in subject_folders:\n",
    "        subject_prob_folder = subj_path + 'probabilistic/'\n",
    "        os.chdir(subject_prob_folder)\n",
    "        os.system('pwd')\n",
    "        os.system('bedpostx ' + subj_path + 'probabilistic/')\n",
    "    \n",
    "#runbedpostx(subject_folders)\n",
    "\n",
    "# Collect new bedpostx folders\n",
    "bedpostx_folders = sorted(glob.glob('/cubric/data/c1639425/Monkey_Brains/derivatives/sub-*/dwi/probabilistic.bedpostX/'))"
   ]
  },
  {
   "cell_type": "markdown",
   "metadata": {},
   "source": [
    "# Run PROBTRACKX - Single Mask\n",
    "\n",
    "Single mask: This is the most common setting, where the seed region is defined by a user-provided mask. Streamlines are seeded from each voxel in the mask. This mask can either be a volumetric (i.e., NIFTI) file or a surface file. On the command line this is achieved by passing on a NIFTI or surface filename to the -x,--seed flag\n",
    "("
   ]
  },
  {
   "cell_type": "code",
   "execution_count": 5,
   "metadata": {
    "scrolled": true
   },
   "outputs": [
    {
     "name": "stdout",
     "output_type": "stream",
     "text": [
      "probtrackx2 -x /cubric/data/c1639425/Monkey_Brains/derivatives/sub-01/dwi/ROIS/sub-01_registered_labels_subiculum_all.nii -l --onewaycondition -c 0.2 -S 2000 --steplength=0.2 -P 5000 --fibthresh=0.01 --distthresh=0.0 --sampvox=0.0 --forcedir --opd -s merged -m /cubric/data/c1639425/Monkey_Brains/derivatives/sub-01/dwi/probabilistic.bedpostX/nodif_brain_mask.nii.gz --dir=/cubric/data/c1639425/Monkey_Brains/derivatives/sub-01/dwi/probabilistic.bedpostX/./prob_tract_single_mask_subic\n",
      "probtrackx2 -x /cubric/data/c1639425/Monkey_Brains/derivatives/sub-02/dwi/ROIS/sub-02_registered_labels_subiculum_all.nii -l --onewaycondition -c 0.2 -S 2000 --steplength=0.2 -P 5000 --fibthresh=0.01 --distthresh=0.0 --sampvox=0.0 --forcedir --opd -s merged -m /cubric/data/c1639425/Monkey_Brains/derivatives/sub-02/dwi/probabilistic.bedpostX/nodif_brain_mask.nii.gz --dir=/cubric/data/c1639425/Monkey_Brains/derivatives/sub-02/dwi/probabilistic.bedpostX/./prob_tract_single_mask_subic\n",
      "probtrackx2 -x /cubric/data/c1639425/Monkey_Brains/derivatives/sub-03/dwi/ROIS/sub-03_registered_labels_subiculum_all.nii -l --onewaycondition -c 0.2 -S 2000 --steplength=0.2 -P 5000 --fibthresh=0.01 --distthresh=0.0 --sampvox=0.0 --forcedir --opd -s merged -m /cubric/data/c1639425/Monkey_Brains/derivatives/sub-03/dwi/probabilistic.bedpostX/nodif_brain_mask.nii.gz --dir=/cubric/data/c1639425/Monkey_Brains/derivatives/sub-03/dwi/probabilistic.bedpostX/./prob_tract_single_mask_subic\n",
      "probtrackx2 -x /cubric/data/c1639425/Monkey_Brains/derivatives/sub-04/dwi/ROIS/sub-04_registered_labels_subiculum_all.nii -l --onewaycondition -c 0.2 -S 2000 --steplength=0.2 -P 5000 --fibthresh=0.01 --distthresh=0.0 --sampvox=0.0 --forcedir --opd -s merged -m /cubric/data/c1639425/Monkey_Brains/derivatives/sub-04/dwi/probabilistic.bedpostX/nodif_brain_mask.nii.gz --dir=/cubric/data/c1639425/Monkey_Brains/derivatives/sub-04/dwi/probabilistic.bedpostX/./prob_tract_single_mask_subic\n",
      "probtrackx2 -x /cubric/data/c1639425/Monkey_Brains/derivatives/sub-05/dwi/ROIS/sub-05_registered_labels_subiculum_all.nii -l --onewaycondition -c 0.2 -S 2000 --steplength=0.2 -P 5000 --fibthresh=0.01 --distthresh=0.0 --sampvox=0.0 --forcedir --opd -s merged -m /cubric/data/c1639425/Monkey_Brains/derivatives/sub-05/dwi/probabilistic.bedpostX/nodif_brain_mask.nii.gz --dir=/cubric/data/c1639425/Monkey_Brains/derivatives/sub-05/dwi/probabilistic.bedpostX/./prob_tract_single_mask_subic\n",
      "probtrackx2 -x /cubric/data/c1639425/Monkey_Brains/derivatives/sub-06/dwi/ROIS/sub-06_registered_labels_subiculum_all.nii -l --onewaycondition -c 0.2 -S 2000 --steplength=0.2 -P 5000 --fibthresh=0.01 --distthresh=0.0 --sampvox=0.0 --forcedir --opd -s merged -m /cubric/data/c1639425/Monkey_Brains/derivatives/sub-06/dwi/probabilistic.bedpostX/nodif_brain_mask.nii.gz --dir=/cubric/data/c1639425/Monkey_Brains/derivatives/sub-06/dwi/probabilistic.bedpostX/./prob_tract_single_mask_subic\n",
      "probtrackx2 -x /cubric/data/c1639425/Monkey_Brains/derivatives/sub-07/dwi/ROIS/sub-07_registered_labels_subiculum_all.nii -l --onewaycondition -c 0.2 -S 2000 --steplength=0.2 -P 5000 --fibthresh=0.01 --distthresh=0.0 --sampvox=0.0 --forcedir --opd -s merged -m /cubric/data/c1639425/Monkey_Brains/derivatives/sub-07/dwi/probabilistic.bedpostX/nodif_brain_mask.nii.gz --dir=/cubric/data/c1639425/Monkey_Brains/derivatives/sub-07/dwi/probabilistic.bedpostX/./prob_tract_single_mask_subic\n",
      "probtrackx2 -x /cubric/data/c1639425/Monkey_Brains/derivatives/sub-08/dwi/ROIS/sub-08_registered_labels_subiculum_all.nii -l --onewaycondition -c 0.2 -S 2000 --steplength=0.2 -P 5000 --fibthresh=0.01 --distthresh=0.0 --sampvox=0.0 --forcedir --opd -s merged -m /cubric/data/c1639425/Monkey_Brains/derivatives/sub-08/dwi/probabilistic.bedpostX/nodif_brain_mask.nii.gz --dir=/cubric/data/c1639425/Monkey_Brains/derivatives/sub-08/dwi/probabilistic.bedpostX/./prob_tract_single_mask_subic\n",
      "probtrackx2 -x /cubric/data/c1639425/Monkey_Brains/derivatives/sub-09/dwi/ROIS/sub-09_registered_labels_subiculum_all.nii -l --onewaycondition -c 0.2 -S 2000 --steplength=0.2 -P 5000 --fibthresh=0.01 --distthresh=0.0 --sampvox=0.0 --forcedir --opd -s merged -m /cubric/data/c1639425/Monkey_Brains/derivatives/sub-09/dwi/probabilistic.bedpostX/nodif_brain_mask.nii.gz --dir=/cubric/data/c1639425/Monkey_Brains/derivatives/sub-09/dwi/probabilistic.bedpostX/./prob_tract_single_mask_subic\n"
     ]
    }
   ],
   "source": [
    "# list_of_bst_masks = sorted(glob.glob('/cubric/data/c1639425/Monkey_Brains/derivatives/sub-*/dwi/ROIS/*registered_labels_BST_central.nii.gz'))\n",
    "subic_masks = sorted(glob.glob('/cubric/data/c1639425/Monkey_Brains/derivatives/sub-*/dwi/ROIS/sub-*_registered_labels_subiculum_all.nii'))\n",
    "bedpostx_folders = sorted(glob.glob('/cubric/data/c1639425/Monkey_Brains/derivatives/sub-*/dwi/probabilistic.bedpostX/'))\n",
    "output_name = 'prob_tract_single_mask_subic'\n",
    "\n",
    "def run_prob_trackx_single_mask(list_of_masks,bedpostx_folders,output_name):\n",
    "    for folder,mask in zip(bedpostx_folders,list_of_masks):\n",
    "        os.chdir(folder)\n",
    "        cmd = 'probtrackx2 -x ' + mask + ' -l --onewaycondition -c 0.2 -S 2000 --steplength=0.2 -P 5000 --fibthresh=0.01 --distthresh=0.0 \\\n",
    "--sampvox=0.0 --forcedir --opd -s merged -m ' + folder + 'nodif_brain_mask.nii.gz \\\n",
    "--dir=' + folder + './' + output_name \n",
    "        print(cmd)\n",
    "        os.system(cmd)\n",
    "        \n",
    "    \n",
    "run_prob_trackx_single_mask(subic_masks,bedpostx_folders,output_name)    "
   ]
  },
  {
   "cell_type": "markdown",
   "metadata": {},
   "source": [
    "# PROBTRACKX - Multiple ROIs"
   ]
  },
  {
   "cell_type": "code",
   "execution_count": 3,
   "metadata": {},
   "outputs": [
    {
     "name": "stdout",
     "output_type": "stream",
     "text": [
      "('bst', 'ncc', 'subic', 'hippocampus', 'caudate', 'ant_thal')\n",
      "('/cubric/data/c1639425/Monkey_Brains/derivatives/sub-01/dwi/ROIS/sub-01_registered_labels_BST_central.nii.gz', '/cubric/data/c1639425/Monkey_Brains/derivatives/sub-01/dwi/ROIS/sub-01_registered_labels_accumbcore_all_accum_nuc.nii', '/cubric/data/c1639425/Monkey_Brains/derivatives/sub-01/dwi/ROIS/sub-01_registered_labels_subiculum_all.nii', '/cubric/data/c1639425/Monkey_Brains/derivatives/sub-01/dwi/ROIS/sub-01_registered_labels_hippocampus.nii', '/cubric/data/c1639425/Monkey_Brains/derivatives/sub-01/dwi/ROIS/sub-01_registered_labels_caudate_nucleus.nii', '/cubric/data/c1639425/Monkey_Brains/derivatives/sub-01/dwi/ROIS/sub-01_registered_labels_anteromedial_thalamic_all_anterior_thalamic.nii')\n"
     ]
    }
   ],
   "source": [
    "bst_masks = sorted(glob.glob('/cubric/data/c1639425/Monkey_Brains/derivatives/sub-*/dwi/ROIS/sub-*_registered_labels_BST_central.nii.gz'))\n",
    "ncc_masks = sorted(glob.glob('/cubric/data/c1639425/Monkey_Brains/derivatives/sub-*/dwi/ROIS/sub-*_registered_labels_accumbcore_all_accum_nuc.nii'))\n",
    "subic_masks = sorted(glob.glob('/cubric/data/c1639425/Monkey_Brains/derivatives/sub-*/dwi/ROIS/sub-*_registered_labels_subiculum_all.nii'))\n",
    "hippocampus_masks = sorted(glob.glob('/cubric/data/c1639425/Monkey_Brains/derivatives/sub-*/dwi/ROIS/sub-*_registered_labels_hippocampus.nii'))\n",
    "caudate_masks = sorted(glob.glob('/cubric/data/c1639425/Monkey_Brains/derivatives/sub-*/dwi/ROIS/sub-*_registered_labels_caudate_nucleus.nii'))\n",
    "anterior_thalamus = sorted(glob.glob('/cubric/data/c1639425/Monkey_Brains/derivatives/sub-*/dwi/ROIS/sub-*_registered_labels_anteromedial_thalamic_all_anterior_thalamic.nii'))\n",
    "ext_glob_pal = sorted(glob.glob('/cubric/data/c1639425/Monkey_Brains/derivatives/sub-*/dwi/ROIS/sub-*_registered_labels_ext_GP.nii'))\n",
    "\n",
    "\n",
    "bedpostx_folders = sorted(glob.glob('/cubric/data/c1639425/Monkey_Brains/derivatives/sub-*/dwi/probabilistic.bedpostX/'))\n",
    "rois = 'bst','ncc','subic', 'ant_thal', 'ext_glob_pal'\n",
    "output_name = 'bst_ncc_subic_antthal_extglobpal_distance_uncorrected'\n",
    "\n",
    "list_of_masks = list(zip(bst_masks,ncc_masks,subic_masks, anterior_thalamus, ext_glob_pal))\n",
    "# Make sure the order of these two match\n",
    "print(rois)\n",
    "print(list_of_masks[0])"
   ]
  },
  {
   "cell_type": "code",
   "execution_count": 48,
   "metadata": {},
   "outputs": [
    {
     "name": "stdout",
     "output_type": "stream",
     "text": [
      "/cubric/data/c1639425/Monkey_Brains/derivatives/sub-01/dwi/probabilistic.bedpostX/\n",
      "probtrackx2 --network -x bst_ncc_subic_distance_corrected_masks.txt -l --onewaycondition -c 0.2 -S 2000 --steplength=0.2 -P 5000 --fibthresh=0.01 --distthresh=0.0 --sampvox=0.0 --forcedir --pd --opd -s merged -m nodif_brain_mask --dir=bst_ncc_subic_distance_corrected\n",
      "/cubric/data/c1639425/Monkey_Brains/derivatives/sub-02/dwi/probabilistic.bedpostX/\n",
      "probtrackx2 --network -x bst_ncc_subic_distance_corrected_masks.txt -l --onewaycondition -c 0.2 -S 2000 --steplength=0.2 -P 5000 --fibthresh=0.01 --distthresh=0.0 --sampvox=0.0 --forcedir --pd --opd -s merged -m nodif_brain_mask --dir=bst_ncc_subic_distance_corrected\n",
      "/cubric/data/c1639425/Monkey_Brains/derivatives/sub-03/dwi/probabilistic.bedpostX/\n",
      "probtrackx2 --network -x bst_ncc_subic_distance_corrected_masks.txt -l --onewaycondition -c 0.2 -S 2000 --steplength=0.2 -P 5000 --fibthresh=0.01 --distthresh=0.0 --sampvox=0.0 --forcedir --pd --opd -s merged -m nodif_brain_mask --dir=bst_ncc_subic_distance_corrected\n",
      "/cubric/data/c1639425/Monkey_Brains/derivatives/sub-04/dwi/probabilistic.bedpostX/\n",
      "probtrackx2 --network -x bst_ncc_subic_distance_corrected_masks.txt -l --onewaycondition -c 0.2 -S 2000 --steplength=0.2 -P 5000 --fibthresh=0.01 --distthresh=0.0 --sampvox=0.0 --forcedir --pd --opd -s merged -m nodif_brain_mask --dir=bst_ncc_subic_distance_corrected\n",
      "/cubric/data/c1639425/Monkey_Brains/derivatives/sub-05/dwi/probabilistic.bedpostX/\n",
      "probtrackx2 --network -x bst_ncc_subic_distance_corrected_masks.txt -l --onewaycondition -c 0.2 -S 2000 --steplength=0.2 -P 5000 --fibthresh=0.01 --distthresh=0.0 --sampvox=0.0 --forcedir --pd --opd -s merged -m nodif_brain_mask --dir=bst_ncc_subic_distance_corrected\n",
      "/cubric/data/c1639425/Monkey_Brains/derivatives/sub-06/dwi/probabilistic.bedpostX/\n",
      "probtrackx2 --network -x bst_ncc_subic_distance_corrected_masks.txt -l --onewaycondition -c 0.2 -S 2000 --steplength=0.2 -P 5000 --fibthresh=0.01 --distthresh=0.0 --sampvox=0.0 --forcedir --pd --opd -s merged -m nodif_brain_mask --dir=bst_ncc_subic_distance_corrected\n",
      "/cubric/data/c1639425/Monkey_Brains/derivatives/sub-07/dwi/probabilistic.bedpostX/\n",
      "probtrackx2 --network -x bst_ncc_subic_distance_corrected_masks.txt -l --onewaycondition -c 0.2 -S 2000 --steplength=0.2 -P 5000 --fibthresh=0.01 --distthresh=0.0 --sampvox=0.0 --forcedir --pd --opd -s merged -m nodif_brain_mask --dir=bst_ncc_subic_distance_corrected\n",
      "/cubric/data/c1639425/Monkey_Brains/derivatives/sub-08/dwi/probabilistic.bedpostX/\n",
      "probtrackx2 --network -x bst_ncc_subic_distance_corrected_masks.txt -l --onewaycondition -c 0.2 -S 2000 --steplength=0.2 -P 5000 --fibthresh=0.01 --distthresh=0.0 --sampvox=0.0 --forcedir --pd --opd -s merged -m nodif_brain_mask --dir=bst_ncc_subic_distance_corrected\n",
      "/cubric/data/c1639425/Monkey_Brains/derivatives/sub-09/dwi/probabilistic.bedpostX/\n",
      "probtrackx2 --network -x bst_ncc_subic_distance_corrected_masks.txt -l --onewaycondition -c 0.2 -S 2000 --steplength=0.2 -P 5000 --fibthresh=0.01 --distthresh=0.0 --sampvox=0.0 --forcedir --pd --opd -s merged -m nodif_brain_mask --dir=bst_ncc_subic_distance_corrected\n"
     ]
    }
   ],
   "source": [
    "#add or remove -pd option in cmd for distance correction\n",
    "def run_multiple_roi_probtrackx(list_of_masks,bedpostx_folders,output_name):\n",
    "    for counter,file in enumerate(bedpostx_folders):\n",
    "        print(file)\n",
    "        os.chdir(file)\n",
    "        masks = list_of_masks[counter]\n",
    "        with open(output_name + '_masks.txt', 'w') as filehandle:\n",
    "            for listitem in masks:\n",
    "                filehandle.write('%s\\n' % listitem)\n",
    "        cmd = 'probtrackx2 --network -x ' + output_name + '_masks.txt -l --onewaycondition -c 0.2 -S 2000 --steplength=0.2 \\\n",
    "-P 5000 --fibthresh=0.01 --distthresh=0.0 --sampvox=0.0 --forcedir --pd --opd \\\n",
    "-s merged -m nodif_brain_mask --dir=' + output_name\n",
    "        print(cmd)\n",
    "        os.system(cmd)\n",
    "        \n",
    "run_multiple_roi_probtrackx(list_of_masks,bedpostx_folders,output_name)"
   ]
  },
  {
   "cell_type": "code",
   "execution_count": null,
   "metadata": {},
   "outputs": [],
   "source": []
  }
 ],
 "metadata": {
  "kernelspec": {
   "display_name": "Python 3",
   "language": "python",
   "name": "python3"
  },
  "language_info": {
   "codemirror_mode": {
    "name": "ipython",
    "version": 3
   },
   "file_extension": ".py",
   "mimetype": "text/x-python",
   "name": "python",
   "nbconvert_exporter": "python",
   "pygments_lexer": "ipython3",
   "version": "3.7.7"
  }
 },
 "nbformat": 4,
 "nbformat_minor": 4
}
