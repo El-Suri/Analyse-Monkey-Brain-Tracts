{
 "cells": [
  {
   "cell_type": "code",
   "execution_count": 1,
   "metadata": {},
   "outputs": [
    {
     "name": "stderr",
     "output_type": "stream",
     "text": [
      "── \u001b[1mAttaching packages\u001b[22m ─────────────────────────────────────── tidyverse 1.3.0 ──\n",
      "\n",
      "\u001b[32m✔\u001b[39m \u001b[34mggplot2\u001b[39m 3.3.0     \u001b[32m✔\u001b[39m \u001b[34mpurrr  \u001b[39m 0.3.4\n",
      "\u001b[32m✔\u001b[39m \u001b[34mtibble \u001b[39m 3.0.1     \u001b[32m✔\u001b[39m \u001b[34mdplyr  \u001b[39m 0.8.5\n",
      "\u001b[32m✔\u001b[39m \u001b[34mtidyr  \u001b[39m 1.0.2     \u001b[32m✔\u001b[39m \u001b[34mstringr\u001b[39m 1.4.0\n",
      "\u001b[32m✔\u001b[39m \u001b[34mreadr  \u001b[39m 1.3.1     \u001b[32m✔\u001b[39m \u001b[34mforcats\u001b[39m 0.5.0\n",
      "\n",
      "── \u001b[1mConflicts\u001b[22m ────────────────────────────────────────── tidyverse_conflicts() ──\n",
      "\u001b[31m✖\u001b[39m \u001b[34mdplyr\u001b[39m::\u001b[32mfilter()\u001b[39m masks \u001b[34mstats\u001b[39m::filter()\n",
      "\u001b[31m✖\u001b[39m \u001b[34mdplyr\u001b[39m::\u001b[32mlag()\u001b[39m    masks \u001b[34mstats\u001b[39m::lag()\n",
      "\n",
      "\n",
      "Attaching package: ‘rstatix’\n",
      "\n",
      "\n",
      "The following object is masked from ‘package:stats’:\n",
      "\n",
      "    filter\n",
      "\n",
      "\n"
     ]
    }
   ],
   "source": [
    "library(tidyverse)\n",
    "library(ggpubr)\n",
    "library(rstatix)"
   ]
  },
  {
   "cell_type": "code",
   "execution_count": 65,
   "metadata": {},
   "outputs": [
    {
     "name": "stderr",
     "output_type": "stream",
     "text": [
      "Parsed with column specification:\n",
      "cols(\n",
      "  .default = col_double(),\n",
      "  Subjects = \u001b[31mcol_character()\u001b[39m\n",
      ")\n",
      "\n",
      "See spec(...) for full column specifications.\n",
      "\n"
     ]
    },
    {
     "name": "stdout",
     "output_type": "stream",
     "text": [
      "\u001b[38;5;246m# A tibble: 9 x 5\u001b[39m\n",
      "  Subjects subic_bst subic_ant_thal subic_ncc subic_ext_glob_pal\n",
      "  \u001b[3m\u001b[38;5;246m<chr>\u001b[39m\u001b[23m        \u001b[3m\u001b[38;5;246m<dbl>\u001b[39m\u001b[23m          \u001b[3m\u001b[38;5;246m<dbl>\u001b[39m\u001b[23m     \u001b[3m\u001b[38;5;246m<dbl>\u001b[39m\u001b[23m              \u001b[3m\u001b[38;5;246m<dbl>\u001b[39m\u001b[23m\n",
      "\u001b[38;5;250m1\u001b[39m sub-01     0.078\u001b[4m4\u001b[24m          0.161   0.004\u001b[4m8\u001b[24m\u001b[4m0\u001b[24m            0.003\u001b[4m5\u001b[24m\u001b[4m6\u001b[24m \n",
      "\u001b[38;5;250m2\u001b[39m sub-02     0.098\u001b[4m5\u001b[24m          0.045\u001b[4m4\u001b[24m  0.010\u001b[4m3\u001b[24m             0.020\u001b[4m5\u001b[24m  \n",
      "\u001b[38;5;250m3\u001b[39m sub-03     0.063\u001b[4m4\u001b[24m          0.014\u001b[4m5\u001b[24m  0.008\u001b[4m0\u001b[24m\u001b[4m8\u001b[24m            0.008\u001b[4m9\u001b[24m\u001b[4m9\u001b[24m \n",
      "\u001b[38;5;250m4\u001b[39m sub-04     0.035\u001b[4m4\u001b[24m          0.134   0.002\u001b[4m7\u001b[24m\u001b[4m6\u001b[24m            0.000\u001b[4m8\u001b[24m\u001b[4m1\u001b[24m\u001b[4m9\u001b[24m\n",
      "\u001b[38;5;250m5\u001b[39m sub-05     0.023\u001b[4m6\u001b[24m          0.149   0.002\u001b[4m8\u001b[24m\u001b[4m3\u001b[24m            0.001\u001b[4m4\u001b[24m\u001b[4m3\u001b[24m \n",
      "\u001b[38;5;250m6\u001b[39m sub-06     0.019\u001b[4m0\u001b[24m          0.105   0.001\u001b[4m2\u001b[24m\u001b[4m9\u001b[24m            0.000\u001b[4m4\u001b[24m\u001b[4m7\u001b[24m\u001b[4m6\u001b[24m\n",
      "\u001b[38;5;250m7\u001b[39m sub-07     0.007\u001b[4m0\u001b[24m\u001b[4m9\u001b[24m         0.152   0.000\u001b[4m4\u001b[24m\u001b[4m3\u001b[24m\u001b[4m9\u001b[24m           0.000\u001b[4m3\u001b[24m\u001b[4m6\u001b[24m\u001b[4m5\u001b[24m\n",
      "\u001b[38;5;250m8\u001b[39m sub-08     0.050\u001b[4m8\u001b[24m          0.117   0.002\u001b[4m5\u001b[24m\u001b[4m5\u001b[24m            0.000\u001b[4m6\u001b[24m\u001b[4m8\u001b[24m\u001b[4m8\u001b[24m\n",
      "\u001b[38;5;250m9\u001b[39m sub-09     0.054\u001b[4m9\u001b[24m          0.207   0.006\u001b[4m0\u001b[24m\u001b[4m3\u001b[24m            0.002\u001b[4m1\u001b[24m\u001b[4m8\u001b[24m \n"
     ]
    }
   ],
   "source": [
    "# Eickhoff = '/cubric/data/c1639425/Monkey_Brains/results_df/proportion_eickhoff_streamline_corrected_bst_subic_ncc_ant_thal_extglobpal_df'\n",
    "# geschwin = /cubric/data/c1639425/Monkey_Brains/results_df/proportion_gschwind_bst_ncc_subic_antthal_globpal_df\n",
    "# Eichoff cols = Subjects,subic_bst,subic_ant_thal,subic_ncc,subic_ext_glob_pal\n",
    "#geschwind cols = Subjects,bst_subic,subic_ant_thal,ncc_subic,subic_ext_glob_pal\n",
    "df_wide = read_csv('/cubric/data/c1639425/Monkey_Brains/results_df/proportion_eickhoff_streamline_corrected_bst_subic_ncc_ant_thal_extglobpal_df')\n",
    "\n",
    "df_wide = df_wide %>%\n",
    "  select(Subjects,subic_bst,subic_ant_thal,subic_ncc,subic_ext_glob_pal)\n",
    "\n",
    "print(df_wide)"
   ]
  },
  {
   "cell_type": "code",
   "execution_count": 67,
   "metadata": {},
   "outputs": [
    {
     "name": "stdout",
     "output_type": "stream",
     "text": [
      "\u001b[38;5;246m# A tibble: 36 x 3\u001b[39m\n",
      "   Subjects ROI            proportion\n",
      "   \u001b[3m\u001b[38;5;246m<fct>\u001b[39m\u001b[23m    \u001b[3m\u001b[38;5;246m<fct>\u001b[39m\u001b[23m               \u001b[3m\u001b[38;5;246m<dbl>\u001b[39m\u001b[23m\n",
      "\u001b[38;5;250m 1\u001b[39m sub-01   subic_bst         0.078\u001b[4m4\u001b[24m \n",
      "\u001b[38;5;250m 2\u001b[39m sub-02   subic_bst         0.098\u001b[4m5\u001b[24m \n",
      "\u001b[38;5;250m 3\u001b[39m sub-03   subic_bst         0.063\u001b[4m4\u001b[24m \n",
      "\u001b[38;5;250m 4\u001b[39m sub-04   subic_bst         0.035\u001b[4m4\u001b[24m \n",
      "\u001b[38;5;250m 5\u001b[39m sub-05   subic_bst         0.023\u001b[4m6\u001b[24m \n",
      "\u001b[38;5;250m 6\u001b[39m sub-06   subic_bst         0.019\u001b[4m0\u001b[24m \n",
      "\u001b[38;5;250m 7\u001b[39m sub-07   subic_bst         0.007\u001b[4m0\u001b[24m\u001b[4m9\u001b[24m\n",
      "\u001b[38;5;250m 8\u001b[39m sub-08   subic_bst         0.050\u001b[4m8\u001b[24m \n",
      "\u001b[38;5;250m 9\u001b[39m sub-09   subic_bst         0.054\u001b[4m9\u001b[24m \n",
      "\u001b[38;5;250m10\u001b[39m sub-01   subic_ant_thal    0.161  \n",
      "\u001b[38;5;246m# … with 26 more rows\u001b[39m\n"
     ]
    }
   ],
   "source": [
    "df <- df_wide %>%\n",
    "  gather(key = \"ROI\", value = \"proportion\",subic_bst,subic_ant_thal,subic_ncc,subic_ext_glob_pal) %>%\n",
    "  convert_as_factor(Subjects, ROI)\n",
    "print(df)"
   ]
  },
  {
   "cell_type": "code",
   "execution_count": 68,
   "metadata": {},
   "outputs": [
    {
     "name": "stdout",
     "output_type": "stream",
     "text": [
      "\u001b[38;5;246m# A tibble: 4 x 5\u001b[39m\n",
      "  ROI                variable       n  mean    sd\n",
      "  \u001b[3m\u001b[38;5;246m<fct>\u001b[39m\u001b[23m              \u001b[3m\u001b[38;5;246m<chr>\u001b[39m\u001b[23m      \u001b[3m\u001b[38;5;246m<dbl>\u001b[39m\u001b[23m \u001b[3m\u001b[38;5;246m<dbl>\u001b[39m\u001b[23m \u001b[3m\u001b[38;5;246m<dbl>\u001b[39m\u001b[23m\n",
      "\u001b[38;5;250m1\u001b[39m subic_ant_thal     proportion     9 0.121 0.059\n",
      "\u001b[38;5;250m2\u001b[39m subic_bst          proportion     9 0.048 0.03 \n",
      "\u001b[38;5;250m3\u001b[39m subic_ext_glob_pal proportion     9 0.004 0.007\n",
      "\u001b[38;5;250m4\u001b[39m subic_ncc          proportion     9 0.004 0.003\n"
     ]
    }
   ],
   "source": [
    "sumstats <- df %>%\n",
    "  group_by(ROI) %>%\n",
    "  get_summary_stats(proportion, type = \"mean_sd\")\n",
    "print(sumstats)"
   ]
  },
  {
   "cell_type": "code",
   "execution_count": 69,
   "metadata": {},
   "outputs": [
    {
     "data": {
      "image/png": "[encoded data removed]",
      "text/plain": [
       "plot without title"
      ]
     },
     "metadata": {
      "image/png": {
       "height": 420,
       "width": 420
      },
      "text/plain": {
       "height": 420,
       "width": 420
      }
     },
     "output_type": "display_data"
    }
   ],
   "source": [
    "bxp <- ggboxplot(df, x = \"ROI\", y = \"proportion\", add = \"point\")\n",
    "bxp"
   ]
  },
  {
   "cell_type": "code",
   "execution_count": 71,
   "metadata": {
    "scrolled": true
   },
   "outputs": [
    {
     "name": "stdout",
     "output_type": "stream",
     "text": [
      "\u001b[38;5;246m# A tibble: 3 x 5\u001b[39m\n",
      "  ROI                Subjects proportion is.outlier is.extreme\n",
      "  \u001b[3m\u001b[38;5;246m<fct>\u001b[39m\u001b[23m              \u001b[3m\u001b[38;5;246m<fct>\u001b[39m\u001b[23m         \u001b[3m\u001b[38;5;246m<dbl>\u001b[39m\u001b[23m \u001b[3m\u001b[38;5;246m<lgl>\u001b[39m\u001b[23m      \u001b[3m\u001b[38;5;246m<lgl>\u001b[39m\u001b[23m     \n",
      "\u001b[38;5;250m1\u001b[39m subic_ant_thal     sub-03      0.014\u001b[4m5\u001b[24m  TRUE       FALSE     \n",
      "\u001b[38;5;250m2\u001b[39m subic_ext_glob_pal sub-02      0.020\u001b[4m5\u001b[24m  TRUE       TRUE      \n",
      "\u001b[38;5;250m3\u001b[39m subic_ext_glob_pal sub-03      0.008\u001b[4m9\u001b[24m\u001b[4m9\u001b[24m TRUE       FALSE     \n"
     ]
    }
   ],
   "source": [
    "# Test for outliers\n",
    "outliers <- df %>%\n",
    "  group_by(ROI) %>%\n",
    "  identify_outliers(proportion)\n",
    "print(outliers)"
   ]
  },
  {
   "cell_type": "code",
   "execution_count": 95,
   "metadata": {},
   "outputs": [
    {
     "name": "stdout",
     "output_type": "stream",
     "text": [
      "\u001b[38;5;246m# A tibble: 9 x 5\u001b[39m\n",
      "  Subjects subic_bst subic_ant_thal subic_ncc subic_ext_glob_pal\n",
      "  \u001b[3m\u001b[38;5;246m<chr>\u001b[39m\u001b[23m        \u001b[3m\u001b[38;5;246m<dbl>\u001b[39m\u001b[23m          \u001b[3m\u001b[38;5;246m<dbl>\u001b[39m\u001b[23m     \u001b[3m\u001b[38;5;246m<dbl>\u001b[39m\u001b[23m              \u001b[3m\u001b[38;5;246m<dbl>\u001b[39m\u001b[23m\n",
      "\u001b[38;5;250m1\u001b[39m sub-01     0.078\u001b[4m4\u001b[24m          0.161   0.004\u001b[4m8\u001b[24m\u001b[4m0\u001b[24m            0.003\u001b[4m5\u001b[24m\u001b[4m6\u001b[24m \n",
      "\u001b[38;5;250m2\u001b[39m sub-02     0.098\u001b[4m5\u001b[24m          0.045\u001b[4m4\u001b[24m  0.010\u001b[4m3\u001b[24m            \u001b[31mNA\u001b[39m       \n",
      "\u001b[38;5;250m3\u001b[39m sub-03     0.063\u001b[4m4\u001b[24m          0.014\u001b[4m5\u001b[24m  0.008\u001b[4m0\u001b[24m\u001b[4m8\u001b[24m           \u001b[31mNA\u001b[39m       \n",
      "\u001b[38;5;250m4\u001b[39m sub-04     0.035\u001b[4m4\u001b[24m          0.134   0.002\u001b[4m7\u001b[24m\u001b[4m6\u001b[24m            0.000\u001b[4m8\u001b[24m\u001b[4m1\u001b[24m\u001b[4m9\u001b[24m\n",
      "\u001b[38;5;250m5\u001b[39m sub-05     0.023\u001b[4m6\u001b[24m          0.149   0.002\u001b[4m8\u001b[24m\u001b[4m3\u001b[24m            0.001\u001b[4m4\u001b[24m\u001b[4m3\u001b[24m \n",
      "\u001b[38;5;250m6\u001b[39m sub-06     0.019\u001b[4m0\u001b[24m          0.105   0.001\u001b[4m2\u001b[24m\u001b[4m9\u001b[24m            0.000\u001b[4m4\u001b[24m\u001b[4m7\u001b[24m\u001b[4m6\u001b[24m\n",
      "\u001b[38;5;250m7\u001b[39m sub-07     0.007\u001b[4m0\u001b[24m\u001b[4m9\u001b[24m         0.152   0.000\u001b[4m4\u001b[24m\u001b[4m3\u001b[24m\u001b[4m9\u001b[24m           0.000\u001b[4m3\u001b[24m\u001b[4m6\u001b[24m\u001b[4m5\u001b[24m\n",
      "\u001b[38;5;250m8\u001b[39m sub-08     0.050\u001b[4m8\u001b[24m          0.117   0.002\u001b[4m5\u001b[24m\u001b[4m5\u001b[24m            0.000\u001b[4m6\u001b[24m\u001b[4m8\u001b[24m\u001b[4m8\u001b[24m\n",
      "\u001b[38;5;250m9\u001b[39m sub-09     0.054\u001b[4m9\u001b[24m          0.207   0.006\u001b[4m0\u001b[24m\u001b[4m3\u001b[24m            0.002\u001b[4m1\u001b[24m\u001b[4m8\u001b[24m \n"
     ]
    }
   ],
   "source": [
    "# Replace outliers, easier to do this in the wide Df\n",
    "\n",
    "# Remove completely \n",
    "# df_outliers_rm <- df_wide %>% filter(subic_ext_glob_pal < 0.0204)\n",
    "\n",
    "\n",
    "df_outliers_rm <- df_wide %>% mutate(subic_ext_glob_pal=replace(subic_ext_glob_pal, subic_ext_glob_pal>0.008, NA))\n",
    "\n",
    "print(df_outliers_rm)"
   ]
  },
  {
   "cell_type": "code",
   "execution_count": 97,
   "metadata": {},
   "outputs": [
    {
     "name": "stdout",
     "output_type": "stream",
     "text": [
      "\u001b[38;5;246m# A tibble: 36 x 3\u001b[39m\n",
      "   Subjects ROI            proportion\n",
      "   \u001b[3m\u001b[38;5;246m<fct>\u001b[39m\u001b[23m    \u001b[3m\u001b[38;5;246m<fct>\u001b[39m\u001b[23m               \u001b[3m\u001b[38;5;246m<dbl>\u001b[39m\u001b[23m\n",
      "\u001b[38;5;250m 1\u001b[39m sub-01   subic_bst         0.078\u001b[4m4\u001b[24m \n",
      "\u001b[38;5;250m 2\u001b[39m sub-02   subic_bst         0.098\u001b[4m5\u001b[24m \n",
      "\u001b[38;5;250m 3\u001b[39m sub-03   subic_bst         0.063\u001b[4m4\u001b[24m \n",
      "\u001b[38;5;250m 4\u001b[39m sub-04   subic_bst         0.035\u001b[4m4\u001b[24m \n",
      "\u001b[38;5;250m 5\u001b[39m sub-05   subic_bst         0.023\u001b[4m6\u001b[24m \n",
      "\u001b[38;5;250m 6\u001b[39m sub-06   subic_bst         0.019\u001b[4m0\u001b[24m \n",
      "\u001b[38;5;250m 7\u001b[39m sub-07   subic_bst         0.007\u001b[4m0\u001b[24m\u001b[4m9\u001b[24m\n",
      "\u001b[38;5;250m 8\u001b[39m sub-08   subic_bst         0.050\u001b[4m8\u001b[24m \n",
      "\u001b[38;5;250m 9\u001b[39m sub-09   subic_bst         0.054\u001b[4m9\u001b[24m \n",
      "\u001b[38;5;250m10\u001b[39m sub-01   subic_ant_thal    0.161  \n",
      "\u001b[38;5;246m# … with 26 more rows\u001b[39m\n"
     ]
    },
    {
     "name": "stderr",
     "output_type": "stream",
     "text": [
      "Warning message:\n",
      "“Removed 2 rows containing non-finite values (stat_boxplot).”\n",
      "Warning message:\n",
      "“Removed 2 rows containing missing values (geom_point).”\n"
     ]
    },
    {
     "data": {
      "image/png": "[encoded data removed]",
      "text/plain": [
       "plot without title"
      ]
     },
     "metadata": {
      "image/png": {
       "height": 420,
       "width": 420
      },
      "text/plain": {
       "height": 420,
       "width": 420
      }
     },
     "output_type": "display_data"
    }
   ],
   "source": [
    "df <- df_outliers_rm %>%\n",
    "  gather(key = \"ROI\", value = \"proportion\",subic_bst,subic_ant_thal,subic_ncc,subic_ext_glob_pal ) %>%\n",
    "  convert_as_factor(Subjects, ROI)\n",
    "print(df)\n",
    "\n",
    "bxp <- ggboxplot(df, x = \"ROI\", y = \"proportion\", add = \"point\")\n",
    "bxp"
   ]
  },
  {
   "cell_type": "code",
   "execution_count": 103,
   "metadata": {},
   "outputs": [
    {
     "name": "stdout",
     "output_type": "stream",
     "text": [
      "\u001b[38;5;246m# A tibble: 4 x 5\u001b[39m\n",
      "  ROI                variable       n  mean    sd\n",
      "  \u001b[3m\u001b[38;5;246m<fct>\u001b[39m\u001b[23m              \u001b[3m\u001b[38;5;246m<chr>\u001b[39m\u001b[23m      \u001b[3m\u001b[38;5;246m<dbl>\u001b[39m\u001b[23m \u001b[3m\u001b[38;5;246m<dbl>\u001b[39m\u001b[23m \u001b[3m\u001b[38;5;246m<dbl>\u001b[39m\u001b[23m\n",
      "\u001b[38;5;250m1\u001b[39m subic_ant_thal     proportion     9 0.121 0.059\n",
      "\u001b[38;5;250m2\u001b[39m subic_bst          proportion     9 0.048 0.03 \n",
      "\u001b[38;5;250m3\u001b[39m subic_ext_glob_pal proportion     7 0.001 0.001\n",
      "\u001b[38;5;250m4\u001b[39m subic_ncc          proportion     9 0.004 0.003\n"
     ]
    }
   ],
   "source": [
    "sumstats <- df %>%\n",
    "  group_by(ROI) %>%\n",
    "  get_summary_stats(proportion, type = \"mean_sd\")\n",
    "print(sumstats)"
   ]
  },
  {
   "cell_type": "code",
   "execution_count": 98,
   "metadata": {},
   "outputs": [
    {
     "name": "stdout",
     "output_type": "stream",
     "text": [
      "\u001b[38;5;246m# A tibble: 4 x 4\u001b[39m\n",
      "  ROI                variable   statistic     p\n",
      "  \u001b[3m\u001b[38;5;246m<fct>\u001b[39m\u001b[23m              \u001b[3m\u001b[38;5;246m<chr>\u001b[39m\u001b[23m          \u001b[3m\u001b[38;5;246m<dbl>\u001b[39m\u001b[23m \u001b[3m\u001b[38;5;246m<dbl>\u001b[39m\u001b[23m\n",
      "\u001b[38;5;250m1\u001b[39m subic_ant_thal     proportion     0.942 0.603\n",
      "\u001b[38;5;250m2\u001b[39m subic_bst          proportion     0.975 0.932\n",
      "\u001b[38;5;250m3\u001b[39m subic_ext_glob_pal proportion     0.849 0.120\n",
      "\u001b[38;5;250m4\u001b[39m subic_ncc          proportion     0.929 0.473\n"
     ]
    }
   ],
   "source": [
    "# Check normal dist\n",
    "normal <- df %>%\n",
    "  group_by(ROI) %>%\n",
    "  shapiro_test(proportion)\n",
    "print(normal)\n"
   ]
  },
  {
   "cell_type": "code",
   "execution_count": 99,
   "metadata": {},
   "outputs": [
    {
     "name": "stderr",
     "output_type": "stream",
     "text": [
      "Warning message:\n",
      "“NA detected in rows: 29,30.\n",
      "Removing this rows before the analysis.”\n"
     ]
    },
    {
     "data": {
      "text/html": [
       "<table>\n",
       "<caption>A anova_test: 1 × 7</caption>\n",
       "<thead>\n",
       "\t<tr><th></th><th scope=col>Effect</th><th scope=col>DFn</th><th scope=col>DFd</th><th scope=col>F</th><th scope=col>p</th><th scope=col>p&lt;.05</th><th scope=col>ges</th></tr>\n",
       "\t<tr><th></th><th scope=col>&lt;chr&gt;</th><th scope=col>&lt;dbl&gt;</th><th scope=col>&lt;dbl&gt;</th><th scope=col>&lt;dbl&gt;</th><th scope=col>&lt;dbl&gt;</th><th scope=col>&lt;chr&gt;</th><th scope=col>&lt;dbl&gt;</th></tr>\n",
       "</thead>\n",
       "<tbody>\n",
       "\t<tr><th scope=row>1</th><td>ROI</td><td>1.81</td><td>10.83</td><td>92.412</td><td>2.09e-07</td><td>*</td><td>0.905</td></tr>\n",
       "</tbody>\n",
       "</table>\n"
      ],
      "text/latex": [
       "A anova\\_test: 1 × 7\n",
       "\\begin{tabular}{r|lllllll}\n",
       "  & Effect & DFn & DFd & F & p & p<.05 & ges\\\\\n",
       "  & <chr> & <dbl> & <dbl> & <dbl> & <dbl> & <chr> & <dbl>\\\\\n",
       "\\hline\n",
       "\t1 & ROI & 1.81 & 10.83 & 92.412 & 2.09e-07 & * & 0.905\\\\\n",
       "\\end{tabular}\n"
      ],
      "text/markdown": [
       "\n",
       "A anova_test: 1 × 7\n",
       "\n",
       "| <!--/--> | Effect &lt;chr&gt; | DFn &lt;dbl&gt; | DFd &lt;dbl&gt; | F &lt;dbl&gt; | p &lt;dbl&gt; | p&lt;.05 &lt;chr&gt; | ges &lt;dbl&gt; |\n",
       "|---|---|---|---|---|---|---|---|\n",
       "| 1 | ROI | 1.81 | 10.83 | 92.412 | 2.09e-07 | * | 0.905 |\n",
       "\n"
      ],
      "text/plain": [
       "  Effect DFn  DFd   F      p        p<.05 ges  \n",
       "1 ROI    1.81 10.83 92.412 2.09e-07 *     0.905"
      ]
     },
     "metadata": {},
     "output_type": "display_data"
    }
   ],
   "source": [
    "res.aov <- anova_test(data = df, dv = proportion, wid = Subjects, within = ROI)\n",
    "get_anova_table(res.aov)"
   ]
  },
  {
   "cell_type": "code",
   "execution_count": 102,
   "metadata": {},
   "outputs": [
    {
     "data": {
      "text/html": [
       "<table>\n",
       "<caption>A rstatix_test: 6 × 10</caption>\n",
       "<thead>\n",
       "\t<tr><th></th><th scope=col>.y.</th><th scope=col>group1</th><th scope=col>group2</th><th scope=col>n1</th><th scope=col>n2</th><th scope=col>statistic</th><th scope=col>df</th><th scope=col>p</th><th scope=col>p.adj</th><th scope=col>p.adj.signif</th></tr>\n",
       "\t<tr><th></th><th scope=col>&lt;chr&gt;</th><th scope=col>&lt;chr&gt;</th><th scope=col>&lt;chr&gt;</th><th scope=col>&lt;int&gt;</th><th scope=col>&lt;int&gt;</th><th scope=col>&lt;dbl&gt;</th><th scope=col>&lt;dbl&gt;</th><th scope=col>&lt;dbl&gt;</th><th scope=col>&lt;dbl&gt;</th><th scope=col>&lt;chr&gt;</th></tr>\n",
       "</thead>\n",
       "<tbody>\n",
       "\t<tr><th scope=row>1</th><td>proportion</td><td>subic_ant_thal    </td><td>subic_bst         </td><td>9</td><td>9</td><td> 2.880649</td><td>8</td><td>2.00e-02</td><td>0.020000</td><td>*  </td></tr>\n",
       "\t<tr><th scope=row>2</th><td>proportion</td><td>subic_ant_thal    </td><td>subic_ext_glob_pal</td><td>9</td><td>9</td><td>11.820124</td><td>6</td><td>2.22e-05</td><td>0.000133</td><td>***</td></tr>\n",
       "\t<tr><th scope=row>3</th><td>proportion</td><td>subic_ant_thal    </td><td>subic_ncc         </td><td>9</td><td>9</td><td> 5.703589</td><td>8</td><td>4.53e-04</td><td>0.001000</td><td>** </td></tr>\n",
       "\t<tr><th scope=row>4</th><td>proportion</td><td>subic_bst         </td><td>subic_ext_glob_pal</td><td>9</td><td>9</td><td> 4.162971</td><td>6</td><td>6.00e-03</td><td>0.009000</td><td>** </td></tr>\n",
       "\t<tr><th scope=row>5</th><td>proportion</td><td>subic_bst         </td><td>subic_ncc         </td><td>9</td><td>9</td><td> 4.871090</td><td>8</td><td>1.00e-03</td><td>0.002000</td><td>** </td></tr>\n",
       "\t<tr><th scope=row>6</th><td>proportion</td><td>subic_ext_glob_pal</td><td>subic_ncc         </td><td>9</td><td>9</td><td>-3.577842</td><td>6</td><td>1.20e-02</td><td>0.014000</td><td>*  </td></tr>\n",
       "</tbody>\n",
       "</table>\n"
      ],
      "text/latex": [
       "A rstatix\\_test: 6 × 10\n",
       "\\begin{tabular}{r|llllllllll}\n",
       "  & .y. & group1 & group2 & n1 & n2 & statistic & df & p & p.adj & p.adj.signif\\\\\n",
       "  & <chr> & <chr> & <chr> & <int> & <int> & <dbl> & <dbl> & <dbl> & <dbl> & <chr>\\\\\n",
       "\\hline\n",
       "\t1 & proportion & subic\\_ant\\_thal     & subic\\_bst          & 9 & 9 &  2.880649 & 8 & 2.00e-02 & 0.020000 & *  \\\\\n",
       "\t2 & proportion & subic\\_ant\\_thal     & subic\\_ext\\_glob\\_pal & 9 & 9 & 11.820124 & 6 & 2.22e-05 & 0.000133 & ***\\\\\n",
       "\t3 & proportion & subic\\_ant\\_thal     & subic\\_ncc          & 9 & 9 &  5.703589 & 8 & 4.53e-04 & 0.001000 & ** \\\\\n",
       "\t4 & proportion & subic\\_bst          & subic\\_ext\\_glob\\_pal & 9 & 9 &  4.162971 & 6 & 6.00e-03 & 0.009000 & ** \\\\\n",
       "\t5 & proportion & subic\\_bst          & subic\\_ncc          & 9 & 9 &  4.871090 & 8 & 1.00e-03 & 0.002000 & ** \\\\\n",
       "\t6 & proportion & subic\\_ext\\_glob\\_pal & subic\\_ncc          & 9 & 9 & -3.577842 & 6 & 1.20e-02 & 0.014000 & *  \\\\\n",
       "\\end{tabular}\n"
      ],
      "text/markdown": [
       "\n",
       "A rstatix_test: 6 × 10\n",
       "\n",
       "| <!--/--> | .y. &lt;chr&gt; | group1 &lt;chr&gt; | group2 &lt;chr&gt; | n1 &lt;int&gt; | n2 &lt;int&gt; | statistic &lt;dbl&gt; | df &lt;dbl&gt; | p &lt;dbl&gt; | p.adj &lt;dbl&gt; | p.adj.signif &lt;chr&gt; |\n",
       "|---|---|---|---|---|---|---|---|---|---|---|\n",
       "| 1 | proportion | subic_ant_thal     | subic_bst          | 9 | 9 |  2.880649 | 8 | 2.00e-02 | 0.020000 | *   |\n",
       "| 2 | proportion | subic_ant_thal     | subic_ext_glob_pal | 9 | 9 | 11.820124 | 6 | 2.22e-05 | 0.000133 | *** |\n",
       "| 3 | proportion | subic_ant_thal     | subic_ncc          | 9 | 9 |  5.703589 | 8 | 4.53e-04 | 0.001000 | **  |\n",
       "| 4 | proportion | subic_bst          | subic_ext_glob_pal | 9 | 9 |  4.162971 | 6 | 6.00e-03 | 0.009000 | **  |\n",
       "| 5 | proportion | subic_bst          | subic_ncc          | 9 | 9 |  4.871090 | 8 | 1.00e-03 | 0.002000 | **  |\n",
       "| 6 | proportion | subic_ext_glob_pal | subic_ncc          | 9 | 9 | -3.577842 | 6 | 1.20e-02 | 0.014000 | *   |\n",
       "\n"
      ],
      "text/plain": [
       "  .y.        group1             group2             n1 n2 statistic df p       \n",
       "1 proportion subic_ant_thal     subic_bst          9  9   2.880649 8  2.00e-02\n",
       "2 proportion subic_ant_thal     subic_ext_glob_pal 9  9  11.820124 6  2.22e-05\n",
       "3 proportion subic_ant_thal     subic_ncc          9  9   5.703589 8  4.53e-04\n",
       "4 proportion subic_bst          subic_ext_glob_pal 9  9   4.162971 6  6.00e-03\n",
       "5 proportion subic_bst          subic_ncc          9  9   4.871090 8  1.00e-03\n",
       "6 proportion subic_ext_glob_pal subic_ncc          9  9  -3.577842 6  1.20e-02\n",
       "  p.adj    p.adj.signif\n",
       "1 0.020000 *           \n",
       "2 0.000133 ***         \n",
       "3 0.001000 **          \n",
       "4 0.009000 **          \n",
       "5 0.002000 **          \n",
       "6 0.014000 *           "
      ]
     },
     "metadata": {},
     "output_type": "display_data"
    }
   ],
   "source": [
    "# pairwise comparisons\n",
    "pwc <- df %>%\n",
    "  pairwise_t_test(\n",
    "    proportion ~ ROI, paired = TRUE,\n",
    "    p.adjust.method = \"fdr\"\n",
    "    )\n",
    "pwc"
   ]
  },
  {
   "cell_type": "code",
   "execution_count": null,
   "metadata": {},
   "outputs": [],
   "source": []
  }
 ],
 "metadata": {
  "kernelspec": {
   "display_name": "R",
   "language": "R",
   "name": "ir"
  },
  "language_info": {
   "codemirror_mode": "r",
   "file_extension": ".r",
   "mimetype": "text/x-r-source",
   "name": "R",
   "pygments_lexer": "r",
   "version": "3.5.2"
  }
 },
 "nbformat": 4,
 "nbformat_minor": 4
}
